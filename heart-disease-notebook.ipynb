{
 "cells": [
  {
   "cell_type": "markdown",
   "id": "9897a6f2",
   "metadata": {},
   "source": [
    "# Predict Heart Disease in a patient"
   ]
  },
  {
   "cell_type": "markdown",
   "id": "a0263bdd",
   "metadata": {},
   "source": [
    "### 1. Get the data \n",
    "* From the Kaggle or UCI Datasets\n"
   ]
  },
  {
   "cell_type": "markdown",
   "id": "3dd0696b",
   "metadata": {},
   "source": [
    "#### Data Description:\n",
    "\n",
    "age : age in years\n",
    "\n",
    "sex : (1 = male; 0 = female)\n",
    "\n",
    "cp : chest pain type\n",
    "\n",
    "trestbps : resting blood pressure (in mm Hg on admission to the hospital)\n",
    "\n",
    "chol : serum cholestoral in mg/dl\n",
    "\n",
    "fbs : (fasting blood sugar &gt; 120 mg/dl) (1 = true; 0 = false)\n",
    "\n",
    "restecg : resting electrocardiographic results\n",
    "\n",
    "thalach : maximum heart rate achieved\n",
    "\n",
    "exang : exercise induced angina (1 = yes; 0 = no)\n",
    "\n",
    "oldpeak : ST depression induced by exercise relative to rest\n",
    "\n",
    "slope : the slope of the peak exercise ST segment\n",
    "\n",
    "ca : number of major vessels (0-3) colored by flourosopy\n",
    "\n",
    "thal : 3 = normal; 6 = fixed defect; 7 = reversable defect\n",
    "\n",
    "target : 1 or 0"
   ]
  },
  {
   "cell_type": "markdown",
   "id": "5a5980ad",
   "metadata": {},
   "source": [
    "## Get the tools ready"
   ]
  },
  {
   "cell_type": "code",
   "execution_count": 41,
   "id": "12ee32f6",
   "metadata": {},
   "outputs": [],
   "source": [
    "# Import all the libraries\n",
    "\n",
    "# Regular EDA (Exploratory Data Ananlysis) and plotting libraries\n",
    "import numpy as np\n",
    "import pandas as pd\n",
    "import matplotlib.pyplot as plt\n",
    "import seaborn as sns\n",
    "\n",
    "%matplotlib inline\n",
    "\n",
    "# Models from sklearn\n",
    "from sklearn.linear_model import LogisticRegression\n",
    "from sklearn.neighbors import KNeighborsClassifier\n",
    "from sklearn.ensemble import RandomForestClassifier\n",
    "\n",
    "# Model Evaluation\n",
    "from sklearn.model_selection import train_test_split, cross_val_score\n",
    "from sklearn.model_selection import RandomizedSearchCV, GridSearchCV\n",
    "from sklearn.metrics import ConfusionMatrixDisplay, classification_report, confusion_matrix\n",
    "from sklearn.metrics import RocCurveDisplay\n",
    "from sklearn.metrics import accuracy_score, precision_score, recall_score, f1_score\n",
    "\n"
   ]
  },
  {
   "cell_type": "markdown",
   "id": "b2750124",
   "metadata": {},
   "source": [
    "## Load Data"
   ]
  },
  {
   "cell_type": "code",
   "execution_count": 2,
   "id": "ec658f8d",
   "metadata": {},
   "outputs": [
    {
     "data": {
      "text/html": [
       "<div>\n",
       "<style scoped>\n",
       "    .dataframe tbody tr th:only-of-type {\n",
       "        vertical-align: middle;\n",
       "    }\n",
       "\n",
       "    .dataframe tbody tr th {\n",
       "        vertical-align: top;\n",
       "    }\n",
       "\n",
       "    .dataframe thead th {\n",
       "        text-align: right;\n",
       "    }\n",
       "</style>\n",
       "<table border=\"1\" class=\"dataframe\">\n",
       "  <thead>\n",
       "    <tr style=\"text-align: right;\">\n",
       "      <th></th>\n",
       "      <th>age</th>\n",
       "      <th>sex</th>\n",
       "      <th>cp</th>\n",
       "      <th>trestbps</th>\n",
       "      <th>chol</th>\n",
       "      <th>fbs</th>\n",
       "      <th>restecg</th>\n",
       "      <th>thalach</th>\n",
       "      <th>exang</th>\n",
       "      <th>oldpeak</th>\n",
       "      <th>slope</th>\n",
       "      <th>ca</th>\n",
       "      <th>thal</th>\n",
       "      <th>target</th>\n",
       "    </tr>\n",
       "  </thead>\n",
       "  <tbody>\n",
       "    <tr>\n",
       "      <th>0</th>\n",
       "      <td>63</td>\n",
       "      <td>1</td>\n",
       "      <td>3</td>\n",
       "      <td>145</td>\n",
       "      <td>233</td>\n",
       "      <td>1</td>\n",
       "      <td>0</td>\n",
       "      <td>150</td>\n",
       "      <td>0</td>\n",
       "      <td>2.3</td>\n",
       "      <td>0</td>\n",
       "      <td>0</td>\n",
       "      <td>1</td>\n",
       "      <td>1</td>\n",
       "    </tr>\n",
       "    <tr>\n",
       "      <th>1</th>\n",
       "      <td>37</td>\n",
       "      <td>1</td>\n",
       "      <td>2</td>\n",
       "      <td>130</td>\n",
       "      <td>250</td>\n",
       "      <td>0</td>\n",
       "      <td>1</td>\n",
       "      <td>187</td>\n",
       "      <td>0</td>\n",
       "      <td>3.5</td>\n",
       "      <td>0</td>\n",
       "      <td>0</td>\n",
       "      <td>2</td>\n",
       "      <td>1</td>\n",
       "    </tr>\n",
       "    <tr>\n",
       "      <th>2</th>\n",
       "      <td>41</td>\n",
       "      <td>0</td>\n",
       "      <td>1</td>\n",
       "      <td>130</td>\n",
       "      <td>204</td>\n",
       "      <td>0</td>\n",
       "      <td>0</td>\n",
       "      <td>172</td>\n",
       "      <td>0</td>\n",
       "      <td>1.4</td>\n",
       "      <td>2</td>\n",
       "      <td>0</td>\n",
       "      <td>2</td>\n",
       "      <td>1</td>\n",
       "    </tr>\n",
       "    <tr>\n",
       "      <th>3</th>\n",
       "      <td>56</td>\n",
       "      <td>1</td>\n",
       "      <td>1</td>\n",
       "      <td>120</td>\n",
       "      <td>236</td>\n",
       "      <td>0</td>\n",
       "      <td>1</td>\n",
       "      <td>178</td>\n",
       "      <td>0</td>\n",
       "      <td>0.8</td>\n",
       "      <td>2</td>\n",
       "      <td>0</td>\n",
       "      <td>2</td>\n",
       "      <td>1</td>\n",
       "    </tr>\n",
       "    <tr>\n",
       "      <th>4</th>\n",
       "      <td>57</td>\n",
       "      <td>0</td>\n",
       "      <td>0</td>\n",
       "      <td>120</td>\n",
       "      <td>354</td>\n",
       "      <td>0</td>\n",
       "      <td>1</td>\n",
       "      <td>163</td>\n",
       "      <td>1</td>\n",
       "      <td>0.6</td>\n",
       "      <td>2</td>\n",
       "      <td>0</td>\n",
       "      <td>2</td>\n",
       "      <td>1</td>\n",
       "    </tr>\n",
       "    <tr>\n",
       "      <th>...</th>\n",
       "      <td>...</td>\n",
       "      <td>...</td>\n",
       "      <td>...</td>\n",
       "      <td>...</td>\n",
       "      <td>...</td>\n",
       "      <td>...</td>\n",
       "      <td>...</td>\n",
       "      <td>...</td>\n",
       "      <td>...</td>\n",
       "      <td>...</td>\n",
       "      <td>...</td>\n",
       "      <td>...</td>\n",
       "      <td>...</td>\n",
       "      <td>...</td>\n",
       "    </tr>\n",
       "    <tr>\n",
       "      <th>298</th>\n",
       "      <td>57</td>\n",
       "      <td>0</td>\n",
       "      <td>0</td>\n",
       "      <td>140</td>\n",
       "      <td>241</td>\n",
       "      <td>0</td>\n",
       "      <td>1</td>\n",
       "      <td>123</td>\n",
       "      <td>1</td>\n",
       "      <td>0.2</td>\n",
       "      <td>1</td>\n",
       "      <td>0</td>\n",
       "      <td>3</td>\n",
       "      <td>0</td>\n",
       "    </tr>\n",
       "    <tr>\n",
       "      <th>299</th>\n",
       "      <td>45</td>\n",
       "      <td>1</td>\n",
       "      <td>3</td>\n",
       "      <td>110</td>\n",
       "      <td>264</td>\n",
       "      <td>0</td>\n",
       "      <td>1</td>\n",
       "      <td>132</td>\n",
       "      <td>0</td>\n",
       "      <td>1.2</td>\n",
       "      <td>1</td>\n",
       "      <td>0</td>\n",
       "      <td>3</td>\n",
       "      <td>0</td>\n",
       "    </tr>\n",
       "    <tr>\n",
       "      <th>300</th>\n",
       "      <td>68</td>\n",
       "      <td>1</td>\n",
       "      <td>0</td>\n",
       "      <td>144</td>\n",
       "      <td>193</td>\n",
       "      <td>1</td>\n",
       "      <td>1</td>\n",
       "      <td>141</td>\n",
       "      <td>0</td>\n",
       "      <td>3.4</td>\n",
       "      <td>1</td>\n",
       "      <td>2</td>\n",
       "      <td>3</td>\n",
       "      <td>0</td>\n",
       "    </tr>\n",
       "    <tr>\n",
       "      <th>301</th>\n",
       "      <td>57</td>\n",
       "      <td>1</td>\n",
       "      <td>0</td>\n",
       "      <td>130</td>\n",
       "      <td>131</td>\n",
       "      <td>0</td>\n",
       "      <td>1</td>\n",
       "      <td>115</td>\n",
       "      <td>1</td>\n",
       "      <td>1.2</td>\n",
       "      <td>1</td>\n",
       "      <td>1</td>\n",
       "      <td>3</td>\n",
       "      <td>0</td>\n",
       "    </tr>\n",
       "    <tr>\n",
       "      <th>302</th>\n",
       "      <td>57</td>\n",
       "      <td>0</td>\n",
       "      <td>1</td>\n",
       "      <td>130</td>\n",
       "      <td>236</td>\n",
       "      <td>0</td>\n",
       "      <td>0</td>\n",
       "      <td>174</td>\n",
       "      <td>0</td>\n",
       "      <td>0.0</td>\n",
       "      <td>1</td>\n",
       "      <td>1</td>\n",
       "      <td>2</td>\n",
       "      <td>0</td>\n",
       "    </tr>\n",
       "  </tbody>\n",
       "</table>\n",
       "<p>303 rows × 14 columns</p>\n",
       "</div>"
      ],
      "text/plain": [
       "     age  sex  cp  trestbps  chol  fbs  restecg  thalach  exang  oldpeak  \\\n",
       "0     63    1   3       145   233    1        0      150      0      2.3   \n",
       "1     37    1   2       130   250    0        1      187      0      3.5   \n",
       "2     41    0   1       130   204    0        0      172      0      1.4   \n",
       "3     56    1   1       120   236    0        1      178      0      0.8   \n",
       "4     57    0   0       120   354    0        1      163      1      0.6   \n",
       "..   ...  ...  ..       ...   ...  ...      ...      ...    ...      ...   \n",
       "298   57    0   0       140   241    0        1      123      1      0.2   \n",
       "299   45    1   3       110   264    0        1      132      0      1.2   \n",
       "300   68    1   0       144   193    1        1      141      0      3.4   \n",
       "301   57    1   0       130   131    0        1      115      1      1.2   \n",
       "302   57    0   1       130   236    0        0      174      0      0.0   \n",
       "\n",
       "     slope  ca  thal  target  \n",
       "0        0   0     1       1  \n",
       "1        0   0     2       1  \n",
       "2        2   0     2       1  \n",
       "3        2   0     2       1  \n",
       "4        2   0     2       1  \n",
       "..     ...  ..   ...     ...  \n",
       "298      1   0     3       0  \n",
       "299      1   0     3       0  \n",
       "300      1   2     3       0  \n",
       "301      1   1     3       0  \n",
       "302      1   1     2       0  \n",
       "\n",
       "[303 rows x 14 columns]"
      ]
     },
     "execution_count": 2,
     "metadata": {},
     "output_type": "execute_result"
    }
   ],
   "source": [
    "df = pd.read_csv('data/heart-disease.csv')\n",
    "df"
   ]
  },
  {
   "cell_type": "markdown",
   "id": "665d1ece",
   "metadata": {},
   "source": [
    "## Data Exploration (Exploratory Data Analysis or EDA)\n",
    "\n",
    "Find more about data\n",
    "\n",
    "1. What question are we trying to solve?\n",
    "2. What kind of Data do we have and how do we treat diffrnt types of data ?\n",
    "3. What is missing from data and how to deal with it ?\n",
    "4. Where are the outliers, and why to care ?\n",
    "5. How can you add, change or remove features to get more out of the data ?"
   ]
  },
  {
   "cell_type": "code",
   "execution_count": 3,
   "id": "d902f9d0",
   "metadata": {},
   "outputs": [
    {
     "data": {
      "text/html": [
       "<div>\n",
       "<style scoped>\n",
       "    .dataframe tbody tr th:only-of-type {\n",
       "        vertical-align: middle;\n",
       "    }\n",
       "\n",
       "    .dataframe tbody tr th {\n",
       "        vertical-align: top;\n",
       "    }\n",
       "\n",
       "    .dataframe thead th {\n",
       "        text-align: right;\n",
       "    }\n",
       "</style>\n",
       "<table border=\"1\" class=\"dataframe\">\n",
       "  <thead>\n",
       "    <tr style=\"text-align: right;\">\n",
       "      <th></th>\n",
       "      <th>age</th>\n",
       "      <th>sex</th>\n",
       "      <th>cp</th>\n",
       "      <th>trestbps</th>\n",
       "      <th>chol</th>\n",
       "      <th>fbs</th>\n",
       "      <th>restecg</th>\n",
       "      <th>thalach</th>\n",
       "      <th>exang</th>\n",
       "      <th>oldpeak</th>\n",
       "      <th>slope</th>\n",
       "      <th>ca</th>\n",
       "      <th>thal</th>\n",
       "      <th>target</th>\n",
       "    </tr>\n",
       "  </thead>\n",
       "  <tbody>\n",
       "    <tr>\n",
       "      <th>0</th>\n",
       "      <td>63</td>\n",
       "      <td>1</td>\n",
       "      <td>3</td>\n",
       "      <td>145</td>\n",
       "      <td>233</td>\n",
       "      <td>1</td>\n",
       "      <td>0</td>\n",
       "      <td>150</td>\n",
       "      <td>0</td>\n",
       "      <td>2.3</td>\n",
       "      <td>0</td>\n",
       "      <td>0</td>\n",
       "      <td>1</td>\n",
       "      <td>1</td>\n",
       "    </tr>\n",
       "    <tr>\n",
       "      <th>1</th>\n",
       "      <td>37</td>\n",
       "      <td>1</td>\n",
       "      <td>2</td>\n",
       "      <td>130</td>\n",
       "      <td>250</td>\n",
       "      <td>0</td>\n",
       "      <td>1</td>\n",
       "      <td>187</td>\n",
       "      <td>0</td>\n",
       "      <td>3.5</td>\n",
       "      <td>0</td>\n",
       "      <td>0</td>\n",
       "      <td>2</td>\n",
       "      <td>1</td>\n",
       "    </tr>\n",
       "    <tr>\n",
       "      <th>2</th>\n",
       "      <td>41</td>\n",
       "      <td>0</td>\n",
       "      <td>1</td>\n",
       "      <td>130</td>\n",
       "      <td>204</td>\n",
       "      <td>0</td>\n",
       "      <td>0</td>\n",
       "      <td>172</td>\n",
       "      <td>0</td>\n",
       "      <td>1.4</td>\n",
       "      <td>2</td>\n",
       "      <td>0</td>\n",
       "      <td>2</td>\n",
       "      <td>1</td>\n",
       "    </tr>\n",
       "    <tr>\n",
       "      <th>3</th>\n",
       "      <td>56</td>\n",
       "      <td>1</td>\n",
       "      <td>1</td>\n",
       "      <td>120</td>\n",
       "      <td>236</td>\n",
       "      <td>0</td>\n",
       "      <td>1</td>\n",
       "      <td>178</td>\n",
       "      <td>0</td>\n",
       "      <td>0.8</td>\n",
       "      <td>2</td>\n",
       "      <td>0</td>\n",
       "      <td>2</td>\n",
       "      <td>1</td>\n",
       "    </tr>\n",
       "    <tr>\n",
       "      <th>4</th>\n",
       "      <td>57</td>\n",
       "      <td>0</td>\n",
       "      <td>0</td>\n",
       "      <td>120</td>\n",
       "      <td>354</td>\n",
       "      <td>0</td>\n",
       "      <td>1</td>\n",
       "      <td>163</td>\n",
       "      <td>1</td>\n",
       "      <td>0.6</td>\n",
       "      <td>2</td>\n",
       "      <td>0</td>\n",
       "      <td>2</td>\n",
       "      <td>1</td>\n",
       "    </tr>\n",
       "  </tbody>\n",
       "</table>\n",
       "</div>"
      ],
      "text/plain": [
       "   age  sex  cp  trestbps  chol  fbs  restecg  thalach  exang  oldpeak  slope  \\\n",
       "0   63    1   3       145   233    1        0      150      0      2.3      0   \n",
       "1   37    1   2       130   250    0        1      187      0      3.5      0   \n",
       "2   41    0   1       130   204    0        0      172      0      1.4      2   \n",
       "3   56    1   1       120   236    0        1      178      0      0.8      2   \n",
       "4   57    0   0       120   354    0        1      163      1      0.6      2   \n",
       "\n",
       "   ca  thal  target  \n",
       "0   0     1       1  \n",
       "1   0     2       1  \n",
       "2   0     2       1  \n",
       "3   0     2       1  \n",
       "4   0     2       1  "
      ]
     },
     "execution_count": 3,
     "metadata": {},
     "output_type": "execute_result"
    }
   ],
   "source": [
    "df.head()"
   ]
  },
  {
   "cell_type": "code",
   "execution_count": 4,
   "id": "73f1ecd7",
   "metadata": {},
   "outputs": [
    {
     "data": {
      "text/html": [
       "<div>\n",
       "<style scoped>\n",
       "    .dataframe tbody tr th:only-of-type {\n",
       "        vertical-align: middle;\n",
       "    }\n",
       "\n",
       "    .dataframe tbody tr th {\n",
       "        vertical-align: top;\n",
       "    }\n",
       "\n",
       "    .dataframe thead th {\n",
       "        text-align: right;\n",
       "    }\n",
       "</style>\n",
       "<table border=\"1\" class=\"dataframe\">\n",
       "  <thead>\n",
       "    <tr style=\"text-align: right;\">\n",
       "      <th></th>\n",
       "      <th>age</th>\n",
       "      <th>sex</th>\n",
       "      <th>cp</th>\n",
       "      <th>trestbps</th>\n",
       "      <th>chol</th>\n",
       "      <th>fbs</th>\n",
       "      <th>restecg</th>\n",
       "      <th>thalach</th>\n",
       "      <th>exang</th>\n",
       "      <th>oldpeak</th>\n",
       "      <th>slope</th>\n",
       "      <th>ca</th>\n",
       "      <th>thal</th>\n",
       "      <th>target</th>\n",
       "    </tr>\n",
       "  </thead>\n",
       "  <tbody>\n",
       "    <tr>\n",
       "      <th>298</th>\n",
       "      <td>57</td>\n",
       "      <td>0</td>\n",
       "      <td>0</td>\n",
       "      <td>140</td>\n",
       "      <td>241</td>\n",
       "      <td>0</td>\n",
       "      <td>1</td>\n",
       "      <td>123</td>\n",
       "      <td>1</td>\n",
       "      <td>0.2</td>\n",
       "      <td>1</td>\n",
       "      <td>0</td>\n",
       "      <td>3</td>\n",
       "      <td>0</td>\n",
       "    </tr>\n",
       "    <tr>\n",
       "      <th>299</th>\n",
       "      <td>45</td>\n",
       "      <td>1</td>\n",
       "      <td>3</td>\n",
       "      <td>110</td>\n",
       "      <td>264</td>\n",
       "      <td>0</td>\n",
       "      <td>1</td>\n",
       "      <td>132</td>\n",
       "      <td>0</td>\n",
       "      <td>1.2</td>\n",
       "      <td>1</td>\n",
       "      <td>0</td>\n",
       "      <td>3</td>\n",
       "      <td>0</td>\n",
       "    </tr>\n",
       "    <tr>\n",
       "      <th>300</th>\n",
       "      <td>68</td>\n",
       "      <td>1</td>\n",
       "      <td>0</td>\n",
       "      <td>144</td>\n",
       "      <td>193</td>\n",
       "      <td>1</td>\n",
       "      <td>1</td>\n",
       "      <td>141</td>\n",
       "      <td>0</td>\n",
       "      <td>3.4</td>\n",
       "      <td>1</td>\n",
       "      <td>2</td>\n",
       "      <td>3</td>\n",
       "      <td>0</td>\n",
       "    </tr>\n",
       "    <tr>\n",
       "      <th>301</th>\n",
       "      <td>57</td>\n",
       "      <td>1</td>\n",
       "      <td>0</td>\n",
       "      <td>130</td>\n",
       "      <td>131</td>\n",
       "      <td>0</td>\n",
       "      <td>1</td>\n",
       "      <td>115</td>\n",
       "      <td>1</td>\n",
       "      <td>1.2</td>\n",
       "      <td>1</td>\n",
       "      <td>1</td>\n",
       "      <td>3</td>\n",
       "      <td>0</td>\n",
       "    </tr>\n",
       "    <tr>\n",
       "      <th>302</th>\n",
       "      <td>57</td>\n",
       "      <td>0</td>\n",
       "      <td>1</td>\n",
       "      <td>130</td>\n",
       "      <td>236</td>\n",
       "      <td>0</td>\n",
       "      <td>0</td>\n",
       "      <td>174</td>\n",
       "      <td>0</td>\n",
       "      <td>0.0</td>\n",
       "      <td>1</td>\n",
       "      <td>1</td>\n",
       "      <td>2</td>\n",
       "      <td>0</td>\n",
       "    </tr>\n",
       "  </tbody>\n",
       "</table>\n",
       "</div>"
      ],
      "text/plain": [
       "     age  sex  cp  trestbps  chol  fbs  restecg  thalach  exang  oldpeak  \\\n",
       "298   57    0   0       140   241    0        1      123      1      0.2   \n",
       "299   45    1   3       110   264    0        1      132      0      1.2   \n",
       "300   68    1   0       144   193    1        1      141      0      3.4   \n",
       "301   57    1   0       130   131    0        1      115      1      1.2   \n",
       "302   57    0   1       130   236    0        0      174      0      0.0   \n",
       "\n",
       "     slope  ca  thal  target  \n",
       "298      1   0     3       0  \n",
       "299      1   0     3       0  \n",
       "300      1   2     3       0  \n",
       "301      1   1     3       0  \n",
       "302      1   1     2       0  "
      ]
     },
     "execution_count": 4,
     "metadata": {},
     "output_type": "execute_result"
    }
   ],
   "source": [
    "df.tail()"
   ]
  },
  {
   "cell_type": "code",
   "execution_count": 5,
   "id": "5fc11d2c",
   "metadata": {},
   "outputs": [
    {
     "data": {
      "text/plain": [
       "1    165\n",
       "0    138\n",
       "Name: target, dtype: int64"
      ]
     },
     "execution_count": 5,
     "metadata": {},
     "output_type": "execute_result"
    }
   ],
   "source": [
    "# Find out class types\n",
    "df['target'].value_counts()"
   ]
  },
  {
   "cell_type": "code",
   "execution_count": 6,
   "id": "1bbcbaef",
   "metadata": {},
   "outputs": [
    {
     "data": {
      "image/png": "[encoded data removed]",
      "text/plain": [
       "<Figure size 432x288 with 1 Axes>"
      ]
     },
     "metadata": {
      "needs_background": "light"
     },
     "output_type": "display_data"
    }
   ],
   "source": [
    "# Visulaize the data\n",
    "df['target'].value_counts().plot(kind='bar', color=['salmon', 'lightblue']);"
   ]
  },
  {
   "cell_type": "code",
   "execution_count": 7,
   "id": "5e47e6bf",
   "metadata": {},
   "outputs": [
    {
     "name": "stdout",
     "output_type": "stream",
     "text": [
      "<class 'pandas.core.frame.DataFrame'>\n",
      "RangeIndex: 303 entries, 0 to 302\n",
      "Data columns (total 14 columns):\n",
      " #   Column    Non-Null Count  Dtype  \n",
      "---  ------    --------------  -----  \n",
      " 0   age       303 non-null    int64  \n",
      " 1   sex       303 non-null    int64  \n",
      " 2   cp        303 non-null    int64  \n",
      " 3   trestbps  303 non-null    int64  \n",
      " 4   chol      303 non-null    int64  \n",
      " 5   fbs       303 non-null    int64  \n",
      " 6   restecg   303 non-null    int64  \n",
      " 7   thalach   303 non-null    int64  \n",
      " 8   exang     303 non-null    int64  \n",
      " 9   oldpeak   303 non-null    float64\n",
      " 10  slope     303 non-null    int64  \n",
      " 11  ca        303 non-null    int64  \n",
      " 12  thal      303 non-null    int64  \n",
      " 13  target    303 non-null    int64  \n",
      "dtypes: float64(1), int64(13)\n",
      "memory usage: 33.3 KB\n"
     ]
    }
   ],
   "source": [
    "df.info()"
   ]
  },
  {
   "cell_type": "code",
   "execution_count": 8,
   "id": "b9b08b5d",
   "metadata": {},
   "outputs": [
    {
     "data": {
      "text/plain": [
       "age         0\n",
       "sex         0\n",
       "cp          0\n",
       "trestbps    0\n",
       "chol        0\n",
       "fbs         0\n",
       "restecg     0\n",
       "thalach     0\n",
       "exang       0\n",
       "oldpeak     0\n",
       "slope       0\n",
       "ca          0\n",
       "thal        0\n",
       "target      0\n",
       "dtype: int64"
      ]
     },
     "execution_count": 8,
     "metadata": {},
     "output_type": "execute_result"
    }
   ],
   "source": [
    "# Check for missing values\n",
    "df.isna().sum()"
   ]
  },
  {
   "cell_type": "code",
   "execution_count": 9,
   "id": "f64223d8",
   "metadata": {},
   "outputs": [
    {
     "data": {
      "text/html": [
       "<div>\n",
       "<style scoped>\n",
       "    .dataframe tbody tr th:only-of-type {\n",
       "        vertical-align: middle;\n",
       "    }\n",
       "\n",
       "    .dataframe tbody tr th {\n",
       "        vertical-align: top;\n",
       "    }\n",
       "\n",
       "    .dataframe thead th {\n",
       "        text-align: right;\n",
       "    }\n",
       "</style>\n",
       "<table border=\"1\" class=\"dataframe\">\n",
       "  <thead>\n",
       "    <tr style=\"text-align: right;\">\n",
       "      <th></th>\n",
       "      <th>age</th>\n",
       "      <th>sex</th>\n",
       "      <th>cp</th>\n",
       "      <th>trestbps</th>\n",
       "      <th>chol</th>\n",
       "      <th>fbs</th>\n",
       "      <th>restecg</th>\n",
       "      <th>thalach</th>\n",
       "      <th>exang</th>\n",
       "      <th>oldpeak</th>\n",
       "      <th>slope</th>\n",
       "      <th>ca</th>\n",
       "      <th>thal</th>\n",
       "      <th>target</th>\n",
       "    </tr>\n",
       "  </thead>\n",
       "  <tbody>\n",
       "    <tr>\n",
       "      <th>count</th>\n",
       "      <td>303.000000</td>\n",
       "      <td>303.000000</td>\n",
       "      <td>303.000000</td>\n",
       "      <td>303.000000</td>\n",
       "      <td>303.000000</td>\n",
       "      <td>303.000000</td>\n",
       "      <td>303.000000</td>\n",
       "      <td>303.000000</td>\n",
       "      <td>303.000000</td>\n",
       "      <td>303.000000</td>\n",
       "      <td>303.000000</td>\n",
       "      <td>303.000000</td>\n",
       "      <td>303.000000</td>\n",
       "      <td>303.000000</td>\n",
       "    </tr>\n",
       "    <tr>\n",
       "      <th>mean</th>\n",
       "      <td>54.366337</td>\n",
       "      <td>0.683168</td>\n",
       "      <td>0.966997</td>\n",
       "      <td>131.623762</td>\n",
       "      <td>246.264026</td>\n",
       "      <td>0.148515</td>\n",
       "      <td>0.528053</td>\n",
       "      <td>149.646865</td>\n",
       "      <td>0.326733</td>\n",
       "      <td>1.039604</td>\n",
       "      <td>1.399340</td>\n",
       "      <td>0.729373</td>\n",
       "      <td>2.313531</td>\n",
       "      <td>0.544554</td>\n",
       "    </tr>\n",
       "    <tr>\n",
       "      <th>std</th>\n",
       "      <td>9.082101</td>\n",
       "      <td>0.466011</td>\n",
       "      <td>1.032052</td>\n",
       "      <td>17.538143</td>\n",
       "      <td>51.830751</td>\n",
       "      <td>0.356198</td>\n",
       "      <td>0.525860</td>\n",
       "      <td>22.905161</td>\n",
       "      <td>0.469794</td>\n",
       "      <td>1.161075</td>\n",
       "      <td>0.616226</td>\n",
       "      <td>1.022606</td>\n",
       "      <td>0.612277</td>\n",
       "      <td>0.498835</td>\n",
       "    </tr>\n",
       "    <tr>\n",
       "      <th>min</th>\n",
       "      <td>29.000000</td>\n",
       "      <td>0.000000</td>\n",
       "      <td>0.000000</td>\n",
       "      <td>94.000000</td>\n",
       "      <td>126.000000</td>\n",
       "      <td>0.000000</td>\n",
       "      <td>0.000000</td>\n",
       "      <td>71.000000</td>\n",
       "      <td>0.000000</td>\n",
       "      <td>0.000000</td>\n",
       "      <td>0.000000</td>\n",
       "      <td>0.000000</td>\n",
       "      <td>0.000000</td>\n",
       "      <td>0.000000</td>\n",
       "    </tr>\n",
       "    <tr>\n",
       "      <th>25%</th>\n",
       "      <td>47.500000</td>\n",
       "      <td>0.000000</td>\n",
       "      <td>0.000000</td>\n",
       "      <td>120.000000</td>\n",
       "      <td>211.000000</td>\n",
       "      <td>0.000000</td>\n",
       "      <td>0.000000</td>\n",
       "      <td>133.500000</td>\n",
       "      <td>0.000000</td>\n",
       "      <td>0.000000</td>\n",
       "      <td>1.000000</td>\n",
       "      <td>0.000000</td>\n",
       "      <td>2.000000</td>\n",
       "      <td>0.000000</td>\n",
       "    </tr>\n",
       "    <tr>\n",
       "      <th>50%</th>\n",
       "      <td>55.000000</td>\n",
       "      <td>1.000000</td>\n",
       "      <td>1.000000</td>\n",
       "      <td>130.000000</td>\n",
       "      <td>240.000000</td>\n",
       "      <td>0.000000</td>\n",
       "      <td>1.000000</td>\n",
       "      <td>153.000000</td>\n",
       "      <td>0.000000</td>\n",
       "      <td>0.800000</td>\n",
       "      <td>1.000000</td>\n",
       "      <td>0.000000</td>\n",
       "      <td>2.000000</td>\n",
       "      <td>1.000000</td>\n",
       "    </tr>\n",
       "    <tr>\n",
       "      <th>75%</th>\n",
       "      <td>61.000000</td>\n",
       "      <td>1.000000</td>\n",
       "      <td>2.000000</td>\n",
       "      <td>140.000000</td>\n",
       "      <td>274.500000</td>\n",
       "      <td>0.000000</td>\n",
       "      <td>1.000000</td>\n",
       "      <td>166.000000</td>\n",
       "      <td>1.000000</td>\n",
       "      <td>1.600000</td>\n",
       "      <td>2.000000</td>\n",
       "      <td>1.000000</td>\n",
       "      <td>3.000000</td>\n",
       "      <td>1.000000</td>\n",
       "    </tr>\n",
       "    <tr>\n",
       "      <th>max</th>\n",
       "      <td>77.000000</td>\n",
       "      <td>1.000000</td>\n",
       "      <td>3.000000</td>\n",
       "      <td>200.000000</td>\n",
       "      <td>564.000000</td>\n",
       "      <td>1.000000</td>\n",
       "      <td>2.000000</td>\n",
       "      <td>202.000000</td>\n",
       "      <td>1.000000</td>\n",
       "      <td>6.200000</td>\n",
       "      <td>2.000000</td>\n",
       "      <td>4.000000</td>\n",
       "      <td>3.000000</td>\n",
       "      <td>1.000000</td>\n",
       "    </tr>\n",
       "  </tbody>\n",
       "</table>\n",
       "</div>"
      ],
      "text/plain": [
       "              age         sex          cp    trestbps        chol         fbs  \\\n",
       "count  303.000000  303.000000  303.000000  303.000000  303.000000  303.000000   \n",
       "mean    54.366337    0.683168    0.966997  131.623762  246.264026    0.148515   \n",
       "std      9.082101    0.466011    1.032052   17.538143   51.830751    0.356198   \n",
       "min     29.000000    0.000000    0.000000   94.000000  126.000000    0.000000   \n",
       "25%     47.500000    0.000000    0.000000  120.000000  211.000000    0.000000   \n",
       "50%     55.000000    1.000000    1.000000  130.000000  240.000000    0.000000   \n",
       "75%     61.000000    1.000000    2.000000  140.000000  274.500000    0.000000   \n",
       "max     77.000000    1.000000    3.000000  200.000000  564.000000    1.000000   \n",
       "\n",
       "          restecg     thalach       exang     oldpeak       slope          ca  \\\n",
       "count  303.000000  303.000000  303.000000  303.000000  303.000000  303.000000   \n",
       "mean     0.528053  149.646865    0.326733    1.039604    1.399340    0.729373   \n",
       "std      0.525860   22.905161    0.469794    1.161075    0.616226    1.022606   \n",
       "min      0.000000   71.000000    0.000000    0.000000    0.000000    0.000000   \n",
       "25%      0.000000  133.500000    0.000000    0.000000    1.000000    0.000000   \n",
       "50%      1.000000  153.000000    0.000000    0.800000    1.000000    0.000000   \n",
       "75%      1.000000  166.000000    1.000000    1.600000    2.000000    1.000000   \n",
       "max      2.000000  202.000000    1.000000    6.200000    2.000000    4.000000   \n",
       "\n",
       "             thal      target  \n",
       "count  303.000000  303.000000  \n",
       "mean     2.313531    0.544554  \n",
       "std      0.612277    0.498835  \n",
       "min      0.000000    0.000000  \n",
       "25%      2.000000    0.000000  \n",
       "50%      2.000000    1.000000  \n",
       "75%      3.000000    1.000000  \n",
       "max      3.000000    1.000000  "
      ]
     },
     "execution_count": 9,
     "metadata": {},
     "output_type": "execute_result"
    }
   ],
   "source": [
    "df.describe()"
   ]
  },
  {
   "cell_type": "markdown",
   "id": "37653edd",
   "metadata": {},
   "source": [
    "#### Heart Disease frequency acc. to Sex"
   ]
  },
  {
   "cell_type": "code",
   "execution_count": 10,
   "id": "0c6dd418",
   "metadata": {},
   "outputs": [
    {
     "data": {
      "text/plain": [
       "(1    207\n",
       " 0     96\n",
       " Name: sex, dtype: int64,\n",
       " 1    165\n",
       " 0    138\n",
       " Name: target, dtype: int64)"
      ]
     },
     "execution_count": 10,
     "metadata": {},
     "output_type": "execute_result"
    }
   ],
   "source": [
    "df.sex.value_counts(), df.target.value_counts()"
   ]
  },
  {
   "cell_type": "code",
   "execution_count": 11,
   "id": "536d2b9e",
   "metadata": {},
   "outputs": [
    {
     "data": {
      "text/html": [
       "<div>\n",
       "<style scoped>\n",
       "    .dataframe tbody tr th:only-of-type {\n",
       "        vertical-align: middle;\n",
       "    }\n",
       "\n",
       "    .dataframe tbody tr th {\n",
       "        vertical-align: top;\n",
       "    }\n",
       "\n",
       "    .dataframe thead th {\n",
       "        text-align: right;\n",
       "    }\n",
       "</style>\n",
       "<table border=\"1\" class=\"dataframe\">\n",
       "  <thead>\n",
       "    <tr style=\"text-align: right;\">\n",
       "      <th>sex</th>\n",
       "      <th>0</th>\n",
       "      <th>1</th>\n",
       "    </tr>\n",
       "    <tr>\n",
       "      <th>target</th>\n",
       "      <th></th>\n",
       "      <th></th>\n",
       "    </tr>\n",
       "  </thead>\n",
       "  <tbody>\n",
       "    <tr>\n",
       "      <th>0</th>\n",
       "      <td>24</td>\n",
       "      <td>114</td>\n",
       "    </tr>\n",
       "    <tr>\n",
       "      <th>1</th>\n",
       "      <td>72</td>\n",
       "      <td>93</td>\n",
       "    </tr>\n",
       "  </tbody>\n",
       "</table>\n",
       "</div>"
      ],
      "text/plain": [
       "sex      0    1\n",
       "target         \n",
       "0       24  114\n",
       "1       72   93"
      ]
     },
     "execution_count": 11,
     "metadata": {},
     "output_type": "execute_result"
    }
   ],
   "source": [
    "# Visualize both columns with crosstab\n",
    "pd.crosstab(df.target, df.sex)"
   ]
  },
  {
   "cell_type": "code",
   "execution_count": 12,
   "id": "8fc528f3",
   "metadata": {
    "scrolled": false
   },
   "outputs": [
    {
     "data": {
      "image/png": "[encoded data removed]",
      "text/plain": [
       "<Figure size 720x576 with 1 Axes>"
      ]
     },
     "metadata": {
      "needs_background": "light"
     },
     "output_type": "display_data"
    }
   ],
   "source": [
    "# Creating a plot for crosstab\n",
    "pd.crosstab(df.target, df.sex).plot(kind='bar',\n",
    "                                    figsize=(10,8),\n",
    "                                    color=['salmon', 'lightblue']);\n",
    "\n",
    "plt.title('Heart Disease frequency for Sex')\n",
    "plt.xlabel('0 = No Heart Disease \\n 1 = Heart Disease')\n",
    "plt.ylabel('# of People')\n",
    "plt.legend(['Female', 'Male']);"
   ]
  },
  {
   "cell_type": "markdown",
   "id": "ae868749",
   "metadata": {},
   "source": [
    "### Age vs Max Heart Rate plot"
   ]
  },
  {
   "cell_type": "code",
   "execution_count": 13,
   "id": "89e14bd6",
   "metadata": {
    "scrolled": false
   },
   "outputs": [
    {
     "data": {
      "image/png": "[encoded data removed]",
      "text/plain": [
       "<Figure size 864x576 with 1 Axes>"
      ]
     },
     "metadata": {
      "needs_background": "light"
     },
     "output_type": "display_data"
    }
   ],
   "source": [
    "plt.figure(figsize=(12,8))\n",
    "\n",
    "plt.scatter(df.age[df.target==1],\n",
    "            df.thalach[df.target==1],\n",
    "            c='salmon')\n",
    "\n",
    "plt.scatter(df.age[df.target==0],\n",
    "            df.thalach[df.target==0],\n",
    "            c='lightblue')\n",
    "\n",
    "plt.title('Age vs Max Heart Rate')\n",
    "plt.xlabel('Age')\n",
    "plt.ylabel('Max Heart rate')\n",
    "plt.legend(['Heart Disease', 'No Heart Disease']);\n"
   ]
  },
  {
   "cell_type": "code",
   "execution_count": 14,
   "id": "530a2bf0",
   "metadata": {},
   "outputs": [
    {
     "data": {
      "image/png": "[encoded data removed]",
      "text/plain": [
       "<Figure size 720x432 with 1 Axes>"
      ]
     },
     "metadata": {
      "needs_background": "light"
     },
     "output_type": "display_data"
    }
   ],
   "source": [
    "plt.figure(figsize=(10,6))\n",
    "df.age.plot.hist(color='salmon');\n",
    "plt.grid()"
   ]
  },
  {
   "cell_type": "markdown",
   "id": "58c1697b",
   "metadata": {},
   "source": [
    "### Heart Disease freq vs Chest Pain (CP)\n",
    "cp: chest pain type\n",
    "   * Value 1: typical angina\n",
    "   * Value 2: atypical angina\n",
    "   * Value 3: non-anginal pain\n",
    "   * Value 4: asymptomatic"
   ]
  },
  {
   "cell_type": "code",
   "execution_count": 15,
   "id": "664f036e",
   "metadata": {},
   "outputs": [
    {
     "data": {
      "text/html": [
       "<div>\n",
       "<style scoped>\n",
       "    .dataframe tbody tr th:only-of-type {\n",
       "        vertical-align: middle;\n",
       "    }\n",
       "\n",
       "    .dataframe tbody tr th {\n",
       "        vertical-align: top;\n",
       "    }\n",
       "\n",
       "    .dataframe thead th {\n",
       "        text-align: right;\n",
       "    }\n",
       "</style>\n",
       "<table border=\"1\" class=\"dataframe\">\n",
       "  <thead>\n",
       "    <tr style=\"text-align: right;\">\n",
       "      <th>target</th>\n",
       "      <th>0</th>\n",
       "      <th>1</th>\n",
       "    </tr>\n",
       "    <tr>\n",
       "      <th>cp</th>\n",
       "      <th></th>\n",
       "      <th></th>\n",
       "    </tr>\n",
       "  </thead>\n",
       "  <tbody>\n",
       "    <tr>\n",
       "      <th>0</th>\n",
       "      <td>104</td>\n",
       "      <td>39</td>\n",
       "    </tr>\n",
       "    <tr>\n",
       "      <th>1</th>\n",
       "      <td>9</td>\n",
       "      <td>41</td>\n",
       "    </tr>\n",
       "    <tr>\n",
       "      <th>2</th>\n",
       "      <td>18</td>\n",
       "      <td>69</td>\n",
       "    </tr>\n",
       "    <tr>\n",
       "      <th>3</th>\n",
       "      <td>7</td>\n",
       "      <td>16</td>\n",
       "    </tr>\n",
       "  </tbody>\n",
       "</table>\n",
       "</div>"
      ],
      "text/plain": [
       "target    0   1\n",
       "cp             \n",
       "0       104  39\n",
       "1         9  41\n",
       "2        18  69\n",
       "3         7  16"
      ]
     },
     "execution_count": 15,
     "metadata": {},
     "output_type": "execute_result"
    }
   ],
   "source": [
    "pd.crosstab(df.cp, df.target)"
   ]
  },
  {
   "cell_type": "code",
   "execution_count": 16,
   "id": "044446f4",
   "metadata": {},
   "outputs": [
    {
     "data": {
      "image/png": "[encoded data removed]",
      "text/plain": [
       "<Figure size 720x432 with 1 Axes>"
      ]
     },
     "metadata": {
      "needs_background": "light"
     },
     "output_type": "display_data"
    }
   ],
   "source": [
    "pd.crosstab(df.cp, df.target).plot(kind='bar',\n",
    "                                   figsize=(10, 6),\n",
    "                                   color=['lightblue', 'salmon'])\n",
    "\n",
    "plt.title('Disease Freq vs Chest Pain')\n",
    "plt.xlabel('Chest Pain:\\n 0:Typical Agina \\n1:Atypical Agina \\n2:Non=Aginal Pain \\n3:Asymptomatic ')\n",
    "plt.ylabel('# of People')\n",
    "plt.legend(['Not Disease', 'Disease']);\n",
    "plt.xticks(rotation=0);"
   ]
  },
  {
   "cell_type": "code",
   "execution_count": 73,
   "id": "f7ffcb88",
   "metadata": {},
   "outputs": [
    {
     "data": {
      "text/html": [
       "<div>\n",
       "<style scoped>\n",
       "    .dataframe tbody tr th:only-of-type {\n",
       "        vertical-align: middle;\n",
       "    }\n",
       "\n",
       "    .dataframe tbody tr th {\n",
       "        vertical-align: top;\n",
       "    }\n",
       "\n",
       "    .dataframe thead th {\n",
       "        text-align: right;\n",
       "    }\n",
       "</style>\n",
       "<table border=\"1\" class=\"dataframe\">\n",
       "  <thead>\n",
       "    <tr style=\"text-align: right;\">\n",
       "      <th></th>\n",
       "      <th>age</th>\n",
       "      <th>sex</th>\n",
       "      <th>cp</th>\n",
       "      <th>trestbps</th>\n",
       "      <th>chol</th>\n",
       "      <th>fbs</th>\n",
       "      <th>restecg</th>\n",
       "      <th>thalach</th>\n",
       "      <th>exang</th>\n",
       "      <th>oldpeak</th>\n",
       "      <th>slope</th>\n",
       "      <th>ca</th>\n",
       "      <th>thal</th>\n",
       "      <th>target</th>\n",
       "    </tr>\n",
       "  </thead>\n",
       "  <tbody>\n",
       "    <tr>\n",
       "      <th>age</th>\n",
       "      <td>1.000000</td>\n",
       "      <td>-0.098447</td>\n",
       "      <td>-0.068653</td>\n",
       "      <td>0.279351</td>\n",
       "      <td>0.213678</td>\n",
       "      <td>0.121308</td>\n",
       "      <td>-0.116211</td>\n",
       "      <td>-0.398522</td>\n",
       "      <td>0.096801</td>\n",
       "      <td>0.210013</td>\n",
       "      <td>-0.168814</td>\n",
       "      <td>0.276326</td>\n",
       "      <td>0.068001</td>\n",
       "      <td>-0.225439</td>\n",
       "    </tr>\n",
       "    <tr>\n",
       "      <th>sex</th>\n",
       "      <td>-0.098447</td>\n",
       "      <td>1.000000</td>\n",
       "      <td>-0.049353</td>\n",
       "      <td>-0.056769</td>\n",
       "      <td>-0.197912</td>\n",
       "      <td>0.045032</td>\n",
       "      <td>-0.058196</td>\n",
       "      <td>-0.044020</td>\n",
       "      <td>0.141664</td>\n",
       "      <td>0.096093</td>\n",
       "      <td>-0.030711</td>\n",
       "      <td>0.118261</td>\n",
       "      <td>0.210041</td>\n",
       "      <td>-0.280937</td>\n",
       "    </tr>\n",
       "    <tr>\n",
       "      <th>cp</th>\n",
       "      <td>-0.068653</td>\n",
       "      <td>-0.049353</td>\n",
       "      <td>1.000000</td>\n",
       "      <td>0.047608</td>\n",
       "      <td>-0.076904</td>\n",
       "      <td>0.094444</td>\n",
       "      <td>0.044421</td>\n",
       "      <td>0.295762</td>\n",
       "      <td>-0.394280</td>\n",
       "      <td>-0.149230</td>\n",
       "      <td>0.119717</td>\n",
       "      <td>-0.181053</td>\n",
       "      <td>-0.161736</td>\n",
       "      <td>0.433798</td>\n",
       "    </tr>\n",
       "    <tr>\n",
       "      <th>trestbps</th>\n",
       "      <td>0.279351</td>\n",
       "      <td>-0.056769</td>\n",
       "      <td>0.047608</td>\n",
       "      <td>1.000000</td>\n",
       "      <td>0.123174</td>\n",
       "      <td>0.177531</td>\n",
       "      <td>-0.114103</td>\n",
       "      <td>-0.046698</td>\n",
       "      <td>0.067616</td>\n",
       "      <td>0.193216</td>\n",
       "      <td>-0.121475</td>\n",
       "      <td>0.101389</td>\n",
       "      <td>0.062210</td>\n",
       "      <td>-0.144931</td>\n",
       "    </tr>\n",
       "    <tr>\n",
       "      <th>chol</th>\n",
       "      <td>0.213678</td>\n",
       "      <td>-0.197912</td>\n",
       "      <td>-0.076904</td>\n",
       "      <td>0.123174</td>\n",
       "      <td>1.000000</td>\n",
       "      <td>0.013294</td>\n",
       "      <td>-0.151040</td>\n",
       "      <td>-0.009940</td>\n",
       "      <td>0.067023</td>\n",
       "      <td>0.053952</td>\n",
       "      <td>-0.004038</td>\n",
       "      <td>0.070511</td>\n",
       "      <td>0.098803</td>\n",
       "      <td>-0.085239</td>\n",
       "    </tr>\n",
       "    <tr>\n",
       "      <th>fbs</th>\n",
       "      <td>0.121308</td>\n",
       "      <td>0.045032</td>\n",
       "      <td>0.094444</td>\n",
       "      <td>0.177531</td>\n",
       "      <td>0.013294</td>\n",
       "      <td>1.000000</td>\n",
       "      <td>-0.084189</td>\n",
       "      <td>-0.008567</td>\n",
       "      <td>0.025665</td>\n",
       "      <td>0.005747</td>\n",
       "      <td>-0.059894</td>\n",
       "      <td>0.137979</td>\n",
       "      <td>-0.032019</td>\n",
       "      <td>-0.028046</td>\n",
       "    </tr>\n",
       "    <tr>\n",
       "      <th>restecg</th>\n",
       "      <td>-0.116211</td>\n",
       "      <td>-0.058196</td>\n",
       "      <td>0.044421</td>\n",
       "      <td>-0.114103</td>\n",
       "      <td>-0.151040</td>\n",
       "      <td>-0.084189</td>\n",
       "      <td>1.000000</td>\n",
       "      <td>0.044123</td>\n",
       "      <td>-0.070733</td>\n",
       "      <td>-0.058770</td>\n",
       "      <td>0.093045</td>\n",
       "      <td>-0.072042</td>\n",
       "      <td>-0.011981</td>\n",
       "      <td>0.137230</td>\n",
       "    </tr>\n",
       "    <tr>\n",
       "      <th>thalach</th>\n",
       "      <td>-0.398522</td>\n",
       "      <td>-0.044020</td>\n",
       "      <td>0.295762</td>\n",
       "      <td>-0.046698</td>\n",
       "      <td>-0.009940</td>\n",
       "      <td>-0.008567</td>\n",
       "      <td>0.044123</td>\n",
       "      <td>1.000000</td>\n",
       "      <td>-0.378812</td>\n",
       "      <td>-0.344187</td>\n",
       "      <td>0.386784</td>\n",
       "      <td>-0.213177</td>\n",
       "      <td>-0.096439</td>\n",
       "      <td>0.421741</td>\n",
       "    </tr>\n",
       "    <tr>\n",
       "      <th>exang</th>\n",
       "      <td>0.096801</td>\n",
       "      <td>0.141664</td>\n",
       "      <td>-0.394280</td>\n",
       "      <td>0.067616</td>\n",
       "      <td>0.067023</td>\n",
       "      <td>0.025665</td>\n",
       "      <td>-0.070733</td>\n",
       "      <td>-0.378812</td>\n",
       "      <td>1.000000</td>\n",
       "      <td>0.288223</td>\n",
       "      <td>-0.257748</td>\n",
       "      <td>0.115739</td>\n",
       "      <td>0.206754</td>\n",
       "      <td>-0.436757</td>\n",
       "    </tr>\n",
       "    <tr>\n",
       "      <th>oldpeak</th>\n",
       "      <td>0.210013</td>\n",
       "      <td>0.096093</td>\n",
       "      <td>-0.149230</td>\n",
       "      <td>0.193216</td>\n",
       "      <td>0.053952</td>\n",
       "      <td>0.005747</td>\n",
       "      <td>-0.058770</td>\n",
       "      <td>-0.344187</td>\n",
       "      <td>0.288223</td>\n",
       "      <td>1.000000</td>\n",
       "      <td>-0.577537</td>\n",
       "      <td>0.222682</td>\n",
       "      <td>0.210244</td>\n",
       "      <td>-0.430696</td>\n",
       "    </tr>\n",
       "    <tr>\n",
       "      <th>slope</th>\n",
       "      <td>-0.168814</td>\n",
       "      <td>-0.030711</td>\n",
       "      <td>0.119717</td>\n",
       "      <td>-0.121475</td>\n",
       "      <td>-0.004038</td>\n",
       "      <td>-0.059894</td>\n",
       "      <td>0.093045</td>\n",
       "      <td>0.386784</td>\n",
       "      <td>-0.257748</td>\n",
       "      <td>-0.577537</td>\n",
       "      <td>1.000000</td>\n",
       "      <td>-0.080155</td>\n",
       "      <td>-0.104764</td>\n",
       "      <td>0.345877</td>\n",
       "    </tr>\n",
       "    <tr>\n",
       "      <th>ca</th>\n",
       "      <td>0.276326</td>\n",
       "      <td>0.118261</td>\n",
       "      <td>-0.181053</td>\n",
       "      <td>0.101389</td>\n",
       "      <td>0.070511</td>\n",
       "      <td>0.137979</td>\n",
       "      <td>-0.072042</td>\n",
       "      <td>-0.213177</td>\n",
       "      <td>0.115739</td>\n",
       "      <td>0.222682</td>\n",
       "      <td>-0.080155</td>\n",
       "      <td>1.000000</td>\n",
       "      <td>0.151832</td>\n",
       "      <td>-0.391724</td>\n",
       "    </tr>\n",
       "    <tr>\n",
       "      <th>thal</th>\n",
       "      <td>0.068001</td>\n",
       "      <td>0.210041</td>\n",
       "      <td>-0.161736</td>\n",
       "      <td>0.062210</td>\n",
       "      <td>0.098803</td>\n",
       "      <td>-0.032019</td>\n",
       "      <td>-0.011981</td>\n",
       "      <td>-0.096439</td>\n",
       "      <td>0.206754</td>\n",
       "      <td>0.210244</td>\n",
       "      <td>-0.104764</td>\n",
       "      <td>0.151832</td>\n",
       "      <td>1.000000</td>\n",
       "      <td>-0.344029</td>\n",
       "    </tr>\n",
       "    <tr>\n",
       "      <th>target</th>\n",
       "      <td>-0.225439</td>\n",
       "      <td>-0.280937</td>\n",
       "      <td>0.433798</td>\n",
       "      <td>-0.144931</td>\n",
       "      <td>-0.085239</td>\n",
       "      <td>-0.028046</td>\n",
       "      <td>0.137230</td>\n",
       "      <td>0.421741</td>\n",
       "      <td>-0.436757</td>\n",
       "      <td>-0.430696</td>\n",
       "      <td>0.345877</td>\n",
       "      <td>-0.391724</td>\n",
       "      <td>-0.344029</td>\n",
       "      <td>1.000000</td>\n",
       "    </tr>\n",
       "  </tbody>\n",
       "</table>\n",
       "</div>"
      ],
      "text/plain": [
       "               age       sex        cp  trestbps      chol       fbs  \\\n",
       "age       1.000000 -0.098447 -0.068653  0.279351  0.213678  0.121308   \n",
       "sex      -0.098447  1.000000 -0.049353 -0.056769 -0.197912  0.045032   \n",
       "cp       -0.068653 -0.049353  1.000000  0.047608 -0.076904  0.094444   \n",
       "trestbps  0.279351 -0.056769  0.047608  1.000000  0.123174  0.177531   \n",
       "chol      0.213678 -0.197912 -0.076904  0.123174  1.000000  0.013294   \n",
       "fbs       0.121308  0.045032  0.094444  0.177531  0.013294  1.000000   \n",
       "restecg  -0.116211 -0.058196  0.044421 -0.114103 -0.151040 -0.084189   \n",
       "thalach  -0.398522 -0.044020  0.295762 -0.046698 -0.009940 -0.008567   \n",
       "exang     0.096801  0.141664 -0.394280  0.067616  0.067023  0.025665   \n",
       "oldpeak   0.210013  0.096093 -0.149230  0.193216  0.053952  0.005747   \n",
       "slope    -0.168814 -0.030711  0.119717 -0.121475 -0.004038 -0.059894   \n",
       "ca        0.276326  0.118261 -0.181053  0.101389  0.070511  0.137979   \n",
       "thal      0.068001  0.210041 -0.161736  0.062210  0.098803 -0.032019   \n",
       "target   -0.225439 -0.280937  0.433798 -0.144931 -0.085239 -0.028046   \n",
       "\n",
       "           restecg   thalach     exang   oldpeak     slope        ca  \\\n",
       "age      -0.116211 -0.398522  0.096801  0.210013 -0.168814  0.276326   \n",
       "sex      -0.058196 -0.044020  0.141664  0.096093 -0.030711  0.118261   \n",
       "cp        0.044421  0.295762 -0.394280 -0.149230  0.119717 -0.181053   \n",
       "trestbps -0.114103 -0.046698  0.067616  0.193216 -0.121475  0.101389   \n",
       "chol     -0.151040 -0.009940  0.067023  0.053952 -0.004038  0.070511   \n",
       "fbs      -0.084189 -0.008567  0.025665  0.005747 -0.059894  0.137979   \n",
       "restecg   1.000000  0.044123 -0.070733 -0.058770  0.093045 -0.072042   \n",
       "thalach   0.044123  1.000000 -0.378812 -0.344187  0.386784 -0.213177   \n",
       "exang    -0.070733 -0.378812  1.000000  0.288223 -0.257748  0.115739   \n",
       "oldpeak  -0.058770 -0.344187  0.288223  1.000000 -0.577537  0.222682   \n",
       "slope     0.093045  0.386784 -0.257748 -0.577537  1.000000 -0.080155   \n",
       "ca       -0.072042 -0.213177  0.115739  0.222682 -0.080155  1.000000   \n",
       "thal     -0.011981 -0.096439  0.206754  0.210244 -0.104764  0.151832   \n",
       "target    0.137230  0.421741 -0.436757 -0.430696  0.345877 -0.391724   \n",
       "\n",
       "              thal    target  \n",
       "age       0.068001 -0.225439  \n",
       "sex       0.210041 -0.280937  \n",
       "cp       -0.161736  0.433798  \n",
       "trestbps  0.062210 -0.144931  \n",
       "chol      0.098803 -0.085239  \n",
       "fbs      -0.032019 -0.028046  \n",
       "restecg  -0.011981  0.137230  \n",
       "thalach  -0.096439  0.421741  \n",
       "exang     0.206754 -0.436757  \n",
       "oldpeak   0.210244 -0.430696  \n",
       "slope    -0.104764  0.345877  \n",
       "ca        0.151832 -0.391724  \n",
       "thal      1.000000 -0.344029  \n",
       "target   -0.344029  1.000000  "
      ]
     },
     "execution_count": 73,
     "metadata": {},
     "output_type": "execute_result"
    }
   ],
   "source": [
    "# Find correlation between columns\n",
    "df.corr()"
   ]
  },
  {
   "cell_type": "code",
   "execution_count": 17,
   "id": "652f7be1",
   "metadata": {},
   "outputs": [
    {
     "data": {
      "image/png": "[encoded data removed]",
      "text/plain": [
       "<Figure size 1080x720 with 2 Axes>"
      ]
     },
     "metadata": {
      "needs_background": "light"
     },
     "output_type": "display_data"
    }
   ],
   "source": [
    "# Visualize the correlation\n",
    "corr_matrix = df.corr()\n",
    "fig, ax = plt.subplots(figsize=(15,10))\n",
    "\n",
    "ax = sns.heatmap(corr_matrix,\n",
    "                 annot = True,\n",
    "                 linewidths=0.5,\n",
    "                 fmt='.2f');\n"
   ]
  },
  {
   "cell_type": "code",
   "execution_count": 18,
   "id": "6fde36d4",
   "metadata": {},
   "outputs": [
    {
     "data": {
      "image/png": "[encoded data removed]",
      "text/plain": [
       "<Figure size 720x432 with 1 Axes>"
      ]
     },
     "metadata": {
      "needs_background": "light"
     },
     "output_type": "display_data"
    }
   ],
   "source": [
    "pd.crosstab(df.exang, df.target).plot(kind='bar',\n",
    "                                   figsize=(10, 6),\n",
    "                                   color=['lightblue', 'salmon'])\n",
    "\n",
    "plt.title('Disease Freq vs Chest Pain')\n",
    "plt.xlabel('Exercise Induced Pain\\n1:Yes\\n0:No')\n",
    "plt.ylabel('# of People')\n",
    "plt.legend(['Not Disease', 'Disease']);\n",
    "plt.xticks(rotation=0);"
   ]
  },
  {
   "cell_type": "markdown",
   "id": "999d9ec1",
   "metadata": {},
   "source": [
    "## Modeling"
   ]
  },
  {
   "cell_type": "code",
   "execution_count": 19,
   "id": "d697daae",
   "metadata": {},
   "outputs": [],
   "source": [
    "# Split data\n",
    "\n",
    "X = df.drop('target', axis=1)\n",
    "y = df['target']"
   ]
  },
  {
   "cell_type": "code",
   "execution_count": 20,
   "id": "d8c9545b",
   "metadata": {},
   "outputs": [
    {
     "data": {
      "text/html": [
       "<div>\n",
       "<style scoped>\n",
       "    .dataframe tbody tr th:only-of-type {\n",
       "        vertical-align: middle;\n",
       "    }\n",
       "\n",
       "    .dataframe tbody tr th {\n",
       "        vertical-align: top;\n",
       "    }\n",
       "\n",
       "    .dataframe thead th {\n",
       "        text-align: right;\n",
       "    }\n",
       "</style>\n",
       "<table border=\"1\" class=\"dataframe\">\n",
       "  <thead>\n",
       "    <tr style=\"text-align: right;\">\n",
       "      <th></th>\n",
       "      <th>age</th>\n",
       "      <th>sex</th>\n",
       "      <th>cp</th>\n",
       "      <th>trestbps</th>\n",
       "      <th>chol</th>\n",
       "      <th>fbs</th>\n",
       "      <th>restecg</th>\n",
       "      <th>thalach</th>\n",
       "      <th>exang</th>\n",
       "      <th>oldpeak</th>\n",
       "      <th>slope</th>\n",
       "      <th>ca</th>\n",
       "      <th>thal</th>\n",
       "    </tr>\n",
       "  </thead>\n",
       "  <tbody>\n",
       "    <tr>\n",
       "      <th>0</th>\n",
       "      <td>63</td>\n",
       "      <td>1</td>\n",
       "      <td>3</td>\n",
       "      <td>145</td>\n",
       "      <td>233</td>\n",
       "      <td>1</td>\n",
       "      <td>0</td>\n",
       "      <td>150</td>\n",
       "      <td>0</td>\n",
       "      <td>2.3</td>\n",
       "      <td>0</td>\n",
       "      <td>0</td>\n",
       "      <td>1</td>\n",
       "    </tr>\n",
       "    <tr>\n",
       "      <th>1</th>\n",
       "      <td>37</td>\n",
       "      <td>1</td>\n",
       "      <td>2</td>\n",
       "      <td>130</td>\n",
       "      <td>250</td>\n",
       "      <td>0</td>\n",
       "      <td>1</td>\n",
       "      <td>187</td>\n",
       "      <td>0</td>\n",
       "      <td>3.5</td>\n",
       "      <td>0</td>\n",
       "      <td>0</td>\n",
       "      <td>2</td>\n",
       "    </tr>\n",
       "    <tr>\n",
       "      <th>2</th>\n",
       "      <td>41</td>\n",
       "      <td>0</td>\n",
       "      <td>1</td>\n",
       "      <td>130</td>\n",
       "      <td>204</td>\n",
       "      <td>0</td>\n",
       "      <td>0</td>\n",
       "      <td>172</td>\n",
       "      <td>0</td>\n",
       "      <td>1.4</td>\n",
       "      <td>2</td>\n",
       "      <td>0</td>\n",
       "      <td>2</td>\n",
       "    </tr>\n",
       "    <tr>\n",
       "      <th>3</th>\n",
       "      <td>56</td>\n",
       "      <td>1</td>\n",
       "      <td>1</td>\n",
       "      <td>120</td>\n",
       "      <td>236</td>\n",
       "      <td>0</td>\n",
       "      <td>1</td>\n",
       "      <td>178</td>\n",
       "      <td>0</td>\n",
       "      <td>0.8</td>\n",
       "      <td>2</td>\n",
       "      <td>0</td>\n",
       "      <td>2</td>\n",
       "    </tr>\n",
       "    <tr>\n",
       "      <th>4</th>\n",
       "      <td>57</td>\n",
       "      <td>0</td>\n",
       "      <td>0</td>\n",
       "      <td>120</td>\n",
       "      <td>354</td>\n",
       "      <td>0</td>\n",
       "      <td>1</td>\n",
       "      <td>163</td>\n",
       "      <td>1</td>\n",
       "      <td>0.6</td>\n",
       "      <td>2</td>\n",
       "      <td>0</td>\n",
       "      <td>2</td>\n",
       "    </tr>\n",
       "    <tr>\n",
       "      <th>...</th>\n",
       "      <td>...</td>\n",
       "      <td>...</td>\n",
       "      <td>...</td>\n",
       "      <td>...</td>\n",
       "      <td>...</td>\n",
       "      <td>...</td>\n",
       "      <td>...</td>\n",
       "      <td>...</td>\n",
       "      <td>...</td>\n",
       "      <td>...</td>\n",
       "      <td>...</td>\n",
       "      <td>...</td>\n",
       "      <td>...</td>\n",
       "    </tr>\n",
       "    <tr>\n",
       "      <th>298</th>\n",
       "      <td>57</td>\n",
       "      <td>0</td>\n",
       "      <td>0</td>\n",
       "      <td>140</td>\n",
       "      <td>241</td>\n",
       "      <td>0</td>\n",
       "      <td>1</td>\n",
       "      <td>123</td>\n",
       "      <td>1</td>\n",
       "      <td>0.2</td>\n",
       "      <td>1</td>\n",
       "      <td>0</td>\n",
       "      <td>3</td>\n",
       "    </tr>\n",
       "    <tr>\n",
       "      <th>299</th>\n",
       "      <td>45</td>\n",
       "      <td>1</td>\n",
       "      <td>3</td>\n",
       "      <td>110</td>\n",
       "      <td>264</td>\n",
       "      <td>0</td>\n",
       "      <td>1</td>\n",
       "      <td>132</td>\n",
       "      <td>0</td>\n",
       "      <td>1.2</td>\n",
       "      <td>1</td>\n",
       "      <td>0</td>\n",
       "      <td>3</td>\n",
       "    </tr>\n",
       "    <tr>\n",
       "      <th>300</th>\n",
       "      <td>68</td>\n",
       "      <td>1</td>\n",
       "      <td>0</td>\n",
       "      <td>144</td>\n",
       "      <td>193</td>\n",
       "      <td>1</td>\n",
       "      <td>1</td>\n",
       "      <td>141</td>\n",
       "      <td>0</td>\n",
       "      <td>3.4</td>\n",
       "      <td>1</td>\n",
       "      <td>2</td>\n",
       "      <td>3</td>\n",
       "    </tr>\n",
       "    <tr>\n",
       "      <th>301</th>\n",
       "      <td>57</td>\n",
       "      <td>1</td>\n",
       "      <td>0</td>\n",
       "      <td>130</td>\n",
       "      <td>131</td>\n",
       "      <td>0</td>\n",
       "      <td>1</td>\n",
       "      <td>115</td>\n",
       "      <td>1</td>\n",
       "      <td>1.2</td>\n",
       "      <td>1</td>\n",
       "      <td>1</td>\n",
       "      <td>3</td>\n",
       "    </tr>\n",
       "    <tr>\n",
       "      <th>302</th>\n",
       "      <td>57</td>\n",
       "      <td>0</td>\n",
       "      <td>1</td>\n",
       "      <td>130</td>\n",
       "      <td>236</td>\n",
       "      <td>0</td>\n",
       "      <td>0</td>\n",
       "      <td>174</td>\n",
       "      <td>0</td>\n",
       "      <td>0.0</td>\n",
       "      <td>1</td>\n",
       "      <td>1</td>\n",
       "      <td>2</td>\n",
       "    </tr>\n",
       "  </tbody>\n",
       "</table>\n",
       "<p>303 rows × 13 columns</p>\n",
       "</div>"
      ],
      "text/plain": [
       "     age  sex  cp  trestbps  chol  fbs  restecg  thalach  exang  oldpeak  \\\n",
       "0     63    1   3       145   233    1        0      150      0      2.3   \n",
       "1     37    1   2       130   250    0        1      187      0      3.5   \n",
       "2     41    0   1       130   204    0        0      172      0      1.4   \n",
       "3     56    1   1       120   236    0        1      178      0      0.8   \n",
       "4     57    0   0       120   354    0        1      163      1      0.6   \n",
       "..   ...  ...  ..       ...   ...  ...      ...      ...    ...      ...   \n",
       "298   57    0   0       140   241    0        1      123      1      0.2   \n",
       "299   45    1   3       110   264    0        1      132      0      1.2   \n",
       "300   68    1   0       144   193    1        1      141      0      3.4   \n",
       "301   57    1   0       130   131    0        1      115      1      1.2   \n",
       "302   57    0   1       130   236    0        0      174      0      0.0   \n",
       "\n",
       "     slope  ca  thal  \n",
       "0        0   0     1  \n",
       "1        0   0     2  \n",
       "2        2   0     2  \n",
       "3        2   0     2  \n",
       "4        2   0     2  \n",
       "..     ...  ..   ...  \n",
       "298      1   0     3  \n",
       "299      1   0     3  \n",
       "300      1   2     3  \n",
       "301      1   1     3  \n",
       "302      1   1     2  \n",
       "\n",
       "[303 rows x 13 columns]"
      ]
     },
     "execution_count": 20,
     "metadata": {},
     "output_type": "execute_result"
    }
   ],
   "source": [
    "X"
   ]
  },
  {
   "cell_type": "code",
   "execution_count": 21,
   "id": "8b032427",
   "metadata": {},
   "outputs": [
    {
     "data": {
      "text/plain": [
       "0      1\n",
       "1      1\n",
       "2      1\n",
       "3      1\n",
       "4      1\n",
       "      ..\n",
       "298    0\n",
       "299    0\n",
       "300    0\n",
       "301    0\n",
       "302    0\n",
       "Name: target, Length: 303, dtype: int64"
      ]
     },
     "execution_count": 21,
     "metadata": {},
     "output_type": "execute_result"
    }
   ],
   "source": [
    "y"
   ]
  },
  {
   "cell_type": "code",
   "execution_count": 22,
   "id": "7e002133",
   "metadata": {},
   "outputs": [],
   "source": [
    "np.random.seed(42)\n",
    "\n",
    "X_train, X_test, y_train, y_test = train_test_split(X, y, test_size=0.2)\n"
   ]
  },
  {
   "cell_type": "markdown",
   "id": "a5b56007",
   "metadata": {},
   "source": [
    "### Try 3 models"
   ]
  },
  {
   "cell_type": "code",
   "execution_count": 23,
   "id": "9c461e6c",
   "metadata": {},
   "outputs": [],
   "source": [
    "# Put models in a dict\n",
    "models = {\n",
    "    'Logistics Regressor': LogisticRegression(),\n",
    "    'KNN' : KNeighborsClassifier(),\n",
    "    'RandomForest' : RandomForestClassifier()\n",
    "}\n",
    "\n",
    "#Function to try all models and scroe them\n",
    "\n",
    "def fit_n_score(models, X_train, X_test, y_train, y_test):\n",
    "    \n",
    "    np.random.seed(42)\n",
    "    \n",
    "    model_scores = {}\n",
    "    \n",
    "    for name, model in models.items():\n",
    "        \n",
    "        model.fit(X_train, y_train)\n",
    "        model_scores[name] = model.score(X_test, y_test)\n",
    "        \n",
    "    return model_scores\n"
   ]
  },
  {
   "cell_type": "code",
   "execution_count": 24,
   "id": "2651c410",
   "metadata": {},
   "outputs": [
    {
     "name": "stderr",
     "output_type": "stream",
     "text": [
      "W:\\Code\\Machine_Learning\\PROJECTS\\heart-disease-project\\env\\lib\\site-packages\\sklearn\\linear_model\\_logistic.py:814: ConvergenceWarning: lbfgs failed to converge (status=1):\n",
      "STOP: TOTAL NO. of ITERATIONS REACHED LIMIT.\n",
      "\n",
      "Increase the number of iterations (max_iter) or scale the data as shown in:\n",
      "    https://scikit-learn.org/stable/modules/preprocessing.html\n",
      "Please also refer to the documentation for alternative solver options:\n",
      "    https://scikit-learn.org/stable/modules/linear_model.html#logistic-regression\n",
      "  n_iter_i = _check_optimize_result(\n"
     ]
    },
    {
     "data": {
      "text/plain": [
       "{'Logistics Regressor': 0.8852459016393442,\n",
       " 'KNN': 0.6885245901639344,\n",
       " 'RandomForest': 0.8360655737704918}"
      ]
     },
     "execution_count": 24,
     "metadata": {},
     "output_type": "execute_result"
    }
   ],
   "source": [
    "model_scores = fit_n_score(models, X_train, X_test, y_train, y_test)\n",
    "\n",
    "model_scores"
   ]
  },
  {
   "cell_type": "markdown",
   "id": "6ac02b1c",
   "metadata": {},
   "source": [
    "### Model Comparison"
   ]
  },
  {
   "cell_type": "code",
   "execution_count": 25,
   "id": "dad11c0d",
   "metadata": {},
   "outputs": [
    {
     "data": {
      "text/html": [
       "<div>\n",
       "<style scoped>\n",
       "    .dataframe tbody tr th:only-of-type {\n",
       "        vertical-align: middle;\n",
       "    }\n",
       "\n",
       "    .dataframe tbody tr th {\n",
       "        vertical-align: top;\n",
       "    }\n",
       "\n",
       "    .dataframe thead th {\n",
       "        text-align: right;\n",
       "    }\n",
       "</style>\n",
       "<table border=\"1\" class=\"dataframe\">\n",
       "  <thead>\n",
       "    <tr style=\"text-align: right;\">\n",
       "      <th></th>\n",
       "      <th>Logistics Regressor</th>\n",
       "      <th>KNN</th>\n",
       "      <th>RandomForest</th>\n",
       "    </tr>\n",
       "  </thead>\n",
       "  <tbody>\n",
       "    <tr>\n",
       "      <th>Accuracy</th>\n",
       "      <td>0.885246</td>\n",
       "      <td>0.688525</td>\n",
       "      <td>0.836066</td>\n",
       "    </tr>\n",
       "  </tbody>\n",
       "</table>\n",
       "</div>"
      ],
      "text/plain": [
       "          Logistics Regressor       KNN  RandomForest\n",
       "Accuracy             0.885246  0.688525      0.836066"
      ]
     },
     "execution_count": 25,
     "metadata": {},
     "output_type": "execute_result"
    }
   ],
   "source": [
    "model_compare = pd.DataFrame(model_scores, index=['Accuracy'])\n",
    "model_compare"
   ]
  },
  {
   "cell_type": "code",
   "execution_count": 26,
   "id": "8adecf42",
   "metadata": {},
   "outputs": [
    {
     "data": {
      "image/png": "[encoded data removed]",
      "text/plain": [
       "<Figure size 720x432 with 1 Axes>"
      ]
     },
     "metadata": {
      "needs_background": "light"
     },
     "output_type": "display_data"
    }
   ],
   "source": [
    "model_compare.T.plot.bar(figsize=(10,6))\n",
    "plt.xticks(rotation=70);"
   ]
  },
  {
   "cell_type": "markdown",
   "id": "211b5e6c",
   "metadata": {},
   "source": [
    "Tune paramter of KNN Model"
   ]
  },
  {
   "cell_type": "code",
   "execution_count": 122,
   "id": "537d7067",
   "metadata": {},
   "outputs": [],
   "source": [
    "# Tuning n_neighbors parameter\n",
    "\n",
    "# Creating list to store train and test scores\n",
    "train_scores = []\n",
    "test_scores = []\n",
    "\n",
    "# Neighbors range\n",
    "neighbors = range(1, 21)\n",
    "\n",
    "# Instantiating model\n",
    "knn = KNeighborsClassifier()\n",
    "\n",
    "# Trying KNN model for a range of n_neighbors through a loop\n",
    "for i in neighbors:\n",
    "    knn.set_params(n_neighbors=i)\n",
    "    knn.fit(X_train, y_train)\n",
    "    train_scores.append(knn.score(X_train, y_train))\n",
    "    test_scores.append(knn.score(X_test, y_test))"
   ]
  },
  {
   "cell_type": "code",
   "execution_count": 123,
   "id": "04701758",
   "metadata": {},
   "outputs": [
    {
     "data": {
      "text/plain": [
       "[1.0,\n",
       " 0.8099173553719008,\n",
       " 0.7727272727272727,\n",
       " 0.743801652892562,\n",
       " 0.7603305785123967,\n",
       " 0.7520661157024794,\n",
       " 0.743801652892562,\n",
       " 0.7231404958677686,\n",
       " 0.71900826446281,\n",
       " 0.6942148760330579,\n",
       " 0.7272727272727273,\n",
       " 0.6983471074380165,\n",
       " 0.6900826446280992,\n",
       " 0.6942148760330579,\n",
       " 0.6859504132231405,\n",
       " 0.6735537190082644,\n",
       " 0.6859504132231405,\n",
       " 0.6652892561983471,\n",
       " 0.6818181818181818,\n",
       " 0.6694214876033058]"
      ]
     },
     "execution_count": 123,
     "metadata": {},
     "output_type": "execute_result"
    }
   ],
   "source": [
    "train_scores"
   ]
  },
  {
   "cell_type": "code",
   "execution_count": 124,
   "id": "2a9e3c15",
   "metadata": {},
   "outputs": [
    {
     "data": {
      "text/plain": [
       "[0.6229508196721312,\n",
       " 0.639344262295082,\n",
       " 0.6557377049180327,\n",
       " 0.6721311475409836,\n",
       " 0.6885245901639344,\n",
       " 0.7213114754098361,\n",
       " 0.7049180327868853,\n",
       " 0.6885245901639344,\n",
       " 0.6885245901639344,\n",
       " 0.7049180327868853,\n",
       " 0.7540983606557377,\n",
       " 0.7377049180327869,\n",
       " 0.7377049180327869,\n",
       " 0.7377049180327869,\n",
       " 0.6885245901639344,\n",
       " 0.7213114754098361,\n",
       " 0.6885245901639344,\n",
       " 0.6885245901639344,\n",
       " 0.7049180327868853,\n",
       " 0.6557377049180327]"
      ]
     },
     "execution_count": 124,
     "metadata": {},
     "output_type": "execute_result"
    }
   ],
   "source": [
    "test_scores"
   ]
  },
  {
   "cell_type": "code",
   "execution_count": 147,
   "id": "cc02a9de",
   "metadata": {},
   "outputs": [
    {
     "name": "stdout",
     "output_type": "stream",
     "text": [
      "Maximum Accuracy of Test Score: 75.41%\n"
     ]
    },
    {
     "data": {
      "image/png": "[encoded data removed]",
      "text/plain": [
       "<Figure size 1080x432 with 1 Axes>"
      ]
     },
     "metadata": {
      "needs_background": "light"
     },
     "output_type": "display_data"
    }
   ],
   "source": [
    "plt.figure(figsize=(15,6))\n",
    "plt.plot(neighbors, train_scores, label='Train Scores')\n",
    "plt.plot(neighbors, test_scores, label='Test Scores')\n",
    "plt.xticks(np.arange(1, 21, 1))\n",
    "plt.xlabel('Neighbors')\n",
    "plt.ylabel('Accuracy')\n",
    "plt.grid()\n",
    "plt.legend();\n",
    "\n",
    "print(f'Maximum Accuracy of Test Score: {max(test_scores)*100:.2f}%')"
   ]
  },
  {
   "cell_type": "code",
   "execution_count": 150,
   "id": "5eebf573",
   "metadata": {},
   "outputs": [],
   "source": [
    "# Tune hyperparameters of Logistic Regression and RandomForestClassifier\n",
    "\n",
    "\n",
    "log_reg_grid = {\"C\": np.logspace(-4, 4, 20),\n",
    "                \"solver\": [\"liblinear\"]}\n",
    "\n",
    "rf_grid = {\"n_estimators\": np.arange(10, 1000, 50),\n",
    "           \"max_depth\": [None, 3, 5, 10],\n",
    "           \"min_samples_split\": np.arange(2, 20, 2),\n",
    "           \"min_samples_leaf\": np.arange(1, 20, 2)}\n"
   ]
  },
  {
   "cell_type": "code",
   "execution_count": 151,
   "id": "80854f8a",
   "metadata": {},
   "outputs": [
    {
     "name": "stdout",
     "output_type": "stream",
     "text": [
      "Fitting 5 folds for each of 20 candidates, totalling 100 fits\n",
      "[CV] END .........................C=0.0001, solver=liblinear; total time=   0.0s\n",
      "[CV] END .........................C=0.0001, solver=liblinear; total time=   0.0s\n",
      "[CV] END .........................C=0.0001, solver=liblinear; total time=   0.0s\n",
      "[CV] END .........................C=0.0001, solver=liblinear; total time=   0.0s\n",
      "[CV] END .........................C=0.0001, solver=liblinear; total time=   0.0s\n",
      "[CV] END .........C=0.00026366508987303583, solver=liblinear; total time=   0.0s\n",
      "[CV] END .........C=0.00026366508987303583, solver=liblinear; total time=   0.0s\n",
      "[CV] END .........C=0.00026366508987303583, solver=liblinear; total time=   0.0s\n",
      "[CV] END .........C=0.00026366508987303583, solver=liblinear; total time=   0.0s\n",
      "[CV] END .........C=0.00026366508987303583, solver=liblinear; total time=   0.0s\n",
      "[CV] END ..........C=0.0006951927961775605, solver=liblinear; total time=   0.0s\n",
      "[CV] END ..........C=0.0006951927961775605, solver=liblinear; total time=   0.0s\n",
      "[CV] END ..........C=0.0006951927961775605, solver=liblinear; total time=   0.0s\n",
      "[CV] END ..........C=0.0006951927961775605, solver=liblinear; total time=   0.0s\n",
      "[CV] END ..........C=0.0006951927961775605, solver=liblinear; total time=   0.0s\n",
      "[CV] END ..........C=0.0018329807108324356, solver=liblinear; total time=   0.0s\n",
      "[CV] END ..........C=0.0018329807108324356, solver=liblinear; total time=   0.0s\n",
      "[CV] END ..........C=0.0018329807108324356, solver=liblinear; total time=   0.0s\n",
      "[CV] END ..........C=0.0018329807108324356, solver=liblinear; total time=   0.0s\n",
      "[CV] END ..........C=0.0018329807108324356, solver=liblinear; total time=   0.0s\n",
      "[CV] END ...........C=0.004832930238571752, solver=liblinear; total time=   0.0s\n",
      "[CV] END ...........C=0.004832930238571752, solver=liblinear; total time=   0.0s\n",
      "[CV] END ...........C=0.004832930238571752, solver=liblinear; total time=   0.0s\n",
      "[CV] END ...........C=0.004832930238571752, solver=liblinear; total time=   0.0s\n",
      "[CV] END ...........C=0.004832930238571752, solver=liblinear; total time=   0.0s\n",
      "[CV] END ...........C=0.012742749857031334, solver=liblinear; total time=   0.0s\n",
      "[CV] END ...........C=0.012742749857031334, solver=liblinear; total time=   0.0s\n",
      "[CV] END ...........C=0.012742749857031334, solver=liblinear; total time=   0.0s\n",
      "[CV] END ...........C=0.012742749857031334, solver=liblinear; total time=   0.0s\n",
      "[CV] END ...........C=0.012742749857031334, solver=liblinear; total time=   0.0s\n",
      "[CV] END ............C=0.03359818286283781, solver=liblinear; total time=   0.0s\n",
      "[CV] END ............C=0.03359818286283781, solver=liblinear; total time=   0.0s\n",
      "[CV] END ............C=0.03359818286283781, solver=liblinear; total time=   0.0s\n",
      "[CV] END ............C=0.03359818286283781, solver=liblinear; total time=   0.0s\n",
      "[CV] END ............C=0.03359818286283781, solver=liblinear; total time=   0.0s\n",
      "[CV] END ............C=0.08858667904100823, solver=liblinear; total time=   0.0s\n",
      "[CV] END ............C=0.08858667904100823, solver=liblinear; total time=   0.0s\n",
      "[CV] END ............C=0.08858667904100823, solver=liblinear; total time=   0.0s\n",
      "[CV] END ............C=0.08858667904100823, solver=liblinear; total time=   0.0s\n",
      "[CV] END ............C=0.08858667904100823, solver=liblinear; total time=   0.0s\n",
      "[CV] END ............C=0.23357214690901212, solver=liblinear; total time=   0.0s\n",
      "[CV] END ............C=0.23357214690901212, solver=liblinear; total time=   0.0s\n",
      "[CV] END ............C=0.23357214690901212, solver=liblinear; total time=   0.0s\n",
      "[CV] END ............C=0.23357214690901212, solver=liblinear; total time=   0.0s\n",
      "[CV] END ............C=0.23357214690901212, solver=liblinear; total time=   0.0s\n",
      "[CV] END ..............C=0.615848211066026, solver=liblinear; total time=   0.0s\n",
      "[CV] END ..............C=0.615848211066026, solver=liblinear; total time=   0.0s\n",
      "[CV] END ..............C=0.615848211066026, solver=liblinear; total time=   0.0s\n",
      "[CV] END ..............C=0.615848211066026, solver=liblinear; total time=   0.0s\n",
      "[CV] END ..............C=0.615848211066026, solver=liblinear; total time=   0.0s\n",
      "[CV] END ..............C=1.623776739188721, solver=liblinear; total time=   0.0s\n",
      "[CV] END ..............C=1.623776739188721, solver=liblinear; total time=   0.0s\n",
      "[CV] END ..............C=1.623776739188721, solver=liblinear; total time=   0.0s\n",
      "[CV] END ..............C=1.623776739188721, solver=liblinear; total time=   0.0s\n",
      "[CV] END ..............C=1.623776739188721, solver=liblinear; total time=   0.0s\n",
      "[CV] END ..............C=4.281332398719396, solver=liblinear; total time=   0.0s\n",
      "[CV] END ..............C=4.281332398719396, solver=liblinear; total time=   0.0s\n",
      "[CV] END ..............C=4.281332398719396, solver=liblinear; total time=   0.0s\n",
      "[CV] END ..............C=4.281332398719396, solver=liblinear; total time=   0.0s\n",
      "[CV] END ..............C=4.281332398719396, solver=liblinear; total time=   0.0s\n",
      "[CV] END .............C=11.288378916846883, solver=liblinear; total time=   0.0s\n",
      "[CV] END .............C=11.288378916846883, solver=liblinear; total time=   0.0s\n",
      "[CV] END .............C=11.288378916846883, solver=liblinear; total time=   0.0s\n",
      "[CV] END .............C=11.288378916846883, solver=liblinear; total time=   0.0s\n",
      "[CV] END .............C=11.288378916846883, solver=liblinear; total time=   0.0s\n",
      "[CV] END .............C=29.763514416313132, solver=liblinear; total time=   0.0s\n",
      "[CV] END .............C=29.763514416313132, solver=liblinear; total time=   0.0s\n",
      "[CV] END .............C=29.763514416313132, solver=liblinear; total time=   0.0s\n",
      "[CV] END .............C=29.763514416313132, solver=liblinear; total time=   0.0s\n",
      "[CV] END .............C=29.763514416313132, solver=liblinear; total time=   0.0s\n",
      "[CV] END ..............C=78.47599703514607, solver=liblinear; total time=   0.0s\n",
      "[CV] END ..............C=78.47599703514607, solver=liblinear; total time=   0.0s\n",
      "[CV] END ..............C=78.47599703514607, solver=liblinear; total time=   0.0s\n",
      "[CV] END ..............C=78.47599703514607, solver=liblinear; total time=   0.0s\n",
      "[CV] END ..............C=78.47599703514607, solver=liblinear; total time=   0.0s\n",
      "[CV] END ...............C=206.913808111479, solver=liblinear; total time=   0.0s\n",
      "[CV] END ...............C=206.913808111479, solver=liblinear; total time=   0.0s\n",
      "[CV] END ...............C=206.913808111479, solver=liblinear; total time=   0.0s\n",
      "[CV] END ...............C=206.913808111479, solver=liblinear; total time=   0.0s\n",
      "[CV] END ...............C=206.913808111479, solver=liblinear; total time=   0.0s\n",
      "[CV] END ..............C=545.5594781168514, solver=liblinear; total time=   0.0s\n",
      "[CV] END ..............C=545.5594781168514, solver=liblinear; total time=   0.0s\n",
      "[CV] END ..............C=545.5594781168514, solver=liblinear; total time=   0.0s\n",
      "[CV] END ..............C=545.5594781168514, solver=liblinear; total time=   0.0s\n",
      "[CV] END ..............C=545.5594781168514, solver=liblinear; total time=   0.0s\n",
      "[CV] END ...............C=1438.44988828766, solver=liblinear; total time=   0.0s\n",
      "[CV] END ...............C=1438.44988828766, solver=liblinear; total time=   0.0s\n",
      "[CV] END ...............C=1438.44988828766, solver=liblinear; total time=   0.0s\n",
      "[CV] END ...............C=1438.44988828766, solver=liblinear; total time=   0.0s\n",
      "[CV] END ...............C=1438.44988828766, solver=liblinear; total time=   0.0s\n",
      "[CV] END ..............C=3792.690190732246, solver=liblinear; total time=   0.0s\n",
      "[CV] END ..............C=3792.690190732246, solver=liblinear; total time=   0.0s\n",
      "[CV] END ..............C=3792.690190732246, solver=liblinear; total time=   0.0s\n",
      "[CV] END ..............C=3792.690190732246, solver=liblinear; total time=   0.0s\n",
      "[CV] END ..............C=3792.690190732246, solver=liblinear; total time=   0.0s\n",
      "[CV] END ........................C=10000.0, solver=liblinear; total time=   0.0s\n",
      "[CV] END ........................C=10000.0, solver=liblinear; total time=   0.0s\n",
      "[CV] END ........................C=10000.0, solver=liblinear; total time=   0.0s\n",
      "[CV] END ........................C=10000.0, solver=liblinear; total time=   0.0s\n",
      "[CV] END ........................C=10000.0, solver=liblinear; total time=   0.0s\n"
     ]
    },
    {
     "data": {
      "text/plain": [
       "RandomizedSearchCV(cv=5, estimator=LogisticRegression(), n_iter=20,\n",
       "                   param_distributions={'C': array([1.00000000e-04, 2.63665090e-04, 6.95192796e-04, 1.83298071e-03,\n",
       "       4.83293024e-03, 1.27427499e-02, 3.35981829e-02, 8.85866790e-02,\n",
       "       2.33572147e-01, 6.15848211e-01, 1.62377674e+00, 4.28133240e+00,\n",
       "       1.12883789e+01, 2.97635144e+01, 7.84759970e+01, 2.06913808e+02,\n",
       "       5.45559478e+02, 1.43844989e+03, 3.79269019e+03, 1.00000000e+04]),\n",
       "                                        'solver': ['liblinear']},\n",
       "                   verbose=2)"
      ]
     },
     "execution_count": 151,
     "metadata": {},
     "output_type": "execute_result"
    }
   ],
   "source": [
    "np.random.seed(42)\n",
    "\n",
    "rs_log_reg = RandomizedSearchCV(LogisticRegression(),\n",
    "                                param_distributions=log_reg_grid,\n",
    "                                cv=5,\n",
    "                                n_iter=20,\n",
    "                                verbose=2)\n",
    "\n",
    "rs_log_reg.fit(X_train, y_train)"
   ]
  },
  {
   "cell_type": "code",
   "execution_count": 152,
   "id": "b25ba093",
   "metadata": {},
   "outputs": [
    {
     "data": {
      "text/plain": [
       "{'solver': 'liblinear', 'C': 0.23357214690901212}"
      ]
     },
     "execution_count": 152,
     "metadata": {},
     "output_type": "execute_result"
    }
   ],
   "source": [
    "rs_log_reg.best_params_"
   ]
  },
  {
   "cell_type": "code",
   "execution_count": 153,
   "id": "3cd4c65e",
   "metadata": {},
   "outputs": [
    {
     "data": {
      "text/plain": [
       "0.8852459016393442"
      ]
     },
     "execution_count": 153,
     "metadata": {},
     "output_type": "execute_result"
    }
   ],
   "source": [
    "rs_log_reg.score(X_test, y_test)"
   ]
  },
  {
   "cell_type": "code",
   "execution_count": 154,
   "id": "9f56889a",
   "metadata": {
    "scrolled": false
   },
   "outputs": [
    {
     "name": "stdout",
     "output_type": "stream",
     "text": [
      "Fitting 5 folds for each of 20 candidates, totalling 100 fits\n",
      "[CV] END max_depth=None, min_samples_leaf=9, min_samples_split=16, n_estimators=10; total time=   0.0s\n",
      "[CV] END max_depth=None, min_samples_leaf=9, min_samples_split=16, n_estimators=10; total time=   0.0s\n",
      "[CV] END max_depth=None, min_samples_leaf=9, min_samples_split=16, n_estimators=10; total time=   0.0s\n",
      "[CV] END max_depth=None, min_samples_leaf=9, min_samples_split=16, n_estimators=10; total time=   0.0s\n",
      "[CV] END max_depth=None, min_samples_leaf=9, min_samples_split=16, n_estimators=10; total time=   0.0s\n",
      "[CV] END max_depth=5, min_samples_leaf=19, min_samples_split=18, n_estimators=510; total time=   0.8s\n",
      "[CV] END max_depth=5, min_samples_leaf=19, min_samples_split=18, n_estimators=510; total time=   0.9s\n",
      "[CV] END max_depth=5, min_samples_leaf=19, min_samples_split=18, n_estimators=510; total time=   0.8s\n",
      "[CV] END max_depth=5, min_samples_leaf=19, min_samples_split=18, n_estimators=510; total time=   0.8s\n",
      "[CV] END max_depth=5, min_samples_leaf=19, min_samples_split=18, n_estimators=510; total time=   0.8s\n",
      "[CV] END max_depth=5, min_samples_leaf=19, min_samples_split=2, n_estimators=310; total time=   0.5s\n",
      "[CV] END max_depth=5, min_samples_leaf=19, min_samples_split=2, n_estimators=310; total time=   0.4s\n",
      "[CV] END max_depth=5, min_samples_leaf=19, min_samples_split=2, n_estimators=310; total time=   0.5s\n",
      "[CV] END max_depth=5, min_samples_leaf=19, min_samples_split=2, n_estimators=310; total time=   0.4s\n",
      "[CV] END max_depth=5, min_samples_leaf=19, min_samples_split=2, n_estimators=310; total time=   0.5s\n",
      "[CV] END max_depth=5, min_samples_leaf=17, min_samples_split=16, n_estimators=560; total time=   0.9s\n",
      "[CV] END max_depth=5, min_samples_leaf=17, min_samples_split=16, n_estimators=560; total time=   0.9s\n",
      "[CV] END max_depth=5, min_samples_leaf=17, min_samples_split=16, n_estimators=560; total time=   0.9s\n",
      "[CV] END max_depth=5, min_samples_leaf=17, min_samples_split=16, n_estimators=560; total time=   0.9s\n",
      "[CV] END max_depth=5, min_samples_leaf=17, min_samples_split=16, n_estimators=560; total time=   0.9s\n",
      "[CV] END max_depth=5, min_samples_leaf=1, min_samples_split=18, n_estimators=610; total time=   1.0s\n",
      "[CV] END max_depth=5, min_samples_leaf=1, min_samples_split=18, n_estimators=610; total time=   1.0s\n",
      "[CV] END max_depth=5, min_samples_leaf=1, min_samples_split=18, n_estimators=610; total time=   1.0s\n",
      "[CV] END max_depth=5, min_samples_leaf=1, min_samples_split=18, n_estimators=610; total time=   1.0s\n",
      "[CV] END max_depth=5, min_samples_leaf=1, min_samples_split=18, n_estimators=610; total time=   1.0s\n",
      "[CV] END max_depth=3, min_samples_leaf=15, min_samples_split=4, n_estimators=610; total time=   1.0s\n",
      "[CV] END max_depth=3, min_samples_leaf=15, min_samples_split=4, n_estimators=610; total time=   1.0s\n",
      "[CV] END max_depth=3, min_samples_leaf=15, min_samples_split=4, n_estimators=610; total time=   1.0s\n",
      "[CV] END max_depth=3, min_samples_leaf=15, min_samples_split=4, n_estimators=610; total time=   1.0s\n",
      "[CV] END max_depth=3, min_samples_leaf=15, min_samples_split=4, n_estimators=610; total time=   1.0s\n",
      "[CV] END max_depth=10, min_samples_leaf=3, min_samples_split=16, n_estimators=710; total time=   1.2s\n",
      "[CV] END max_depth=10, min_samples_leaf=3, min_samples_split=16, n_estimators=710; total time=   1.2s\n",
      "[CV] END max_depth=10, min_samples_leaf=3, min_samples_split=16, n_estimators=710; total time=   1.2s\n",
      "[CV] END max_depth=10, min_samples_leaf=3, min_samples_split=16, n_estimators=710; total time=   1.2s\n",
      "[CV] END max_depth=10, min_samples_leaf=3, min_samples_split=16, n_estimators=710; total time=   1.2s\n",
      "[CV] END max_depth=10, min_samples_leaf=9, min_samples_split=16, n_estimators=260; total time=   0.3s\n",
      "[CV] END max_depth=10, min_samples_leaf=9, min_samples_split=16, n_estimators=260; total time=   0.4s\n",
      "[CV] END max_depth=10, min_samples_leaf=9, min_samples_split=16, n_estimators=260; total time=   0.4s\n",
      "[CV] END max_depth=10, min_samples_leaf=9, min_samples_split=16, n_estimators=260; total time=   0.4s\n",
      "[CV] END max_depth=10, min_samples_leaf=9, min_samples_split=16, n_estimators=260; total time=   0.4s\n",
      "[CV] END max_depth=None, min_samples_leaf=5, min_samples_split=12, n_estimators=310; total time=   0.5s\n",
      "[CV] END max_depth=None, min_samples_leaf=5, min_samples_split=12, n_estimators=310; total time=   0.5s\n",
      "[CV] END max_depth=None, min_samples_leaf=5, min_samples_split=12, n_estimators=310; total time=   0.5s\n",
      "[CV] END max_depth=None, min_samples_leaf=5, min_samples_split=12, n_estimators=310; total time=   0.5s\n",
      "[CV] END max_depth=None, min_samples_leaf=5, min_samples_split=12, n_estimators=310; total time=   0.5s\n",
      "[CV] END max_depth=5, min_samples_leaf=19, min_samples_split=12, n_estimators=710; total time=   1.2s\n",
      "[CV] END max_depth=5, min_samples_leaf=19, min_samples_split=12, n_estimators=710; total time=   1.1s\n",
      "[CV] END max_depth=5, min_samples_leaf=19, min_samples_split=12, n_estimators=710; total time=   1.1s\n",
      "[CV] END max_depth=5, min_samples_leaf=19, min_samples_split=12, n_estimators=710; total time=   1.1s\n",
      "[CV] END max_depth=5, min_samples_leaf=19, min_samples_split=12, n_estimators=710; total time=   1.2s\n",
      "[CV] END max_depth=5, min_samples_leaf=9, min_samples_split=12, n_estimators=310; total time=   0.5s\n",
      "[CV] END max_depth=5, min_samples_leaf=9, min_samples_split=12, n_estimators=310; total time=   0.5s\n",
      "[CV] END max_depth=5, min_samples_leaf=9, min_samples_split=12, n_estimators=310; total time=   0.5s\n",
      "[CV] END max_depth=5, min_samples_leaf=9, min_samples_split=12, n_estimators=310; total time=   0.5s\n",
      "[CV] END max_depth=5, min_samples_leaf=9, min_samples_split=12, n_estimators=310; total time=   0.4s\n",
      "[CV] END max_depth=10, min_samples_leaf=1, min_samples_split=18, n_estimators=910; total time=   1.6s\n",
      "[CV] END max_depth=10, min_samples_leaf=1, min_samples_split=18, n_estimators=910; total time=   1.6s\n",
      "[CV] END max_depth=10, min_samples_leaf=1, min_samples_split=18, n_estimators=910; total time=   1.5s\n",
      "[CV] END max_depth=10, min_samples_leaf=1, min_samples_split=18, n_estimators=910; total time=   1.5s\n",
      "[CV] END max_depth=10, min_samples_leaf=1, min_samples_split=18, n_estimators=910; total time=   1.6s\n",
      "[CV] END max_depth=10, min_samples_leaf=9, min_samples_split=12, n_estimators=560; total time=   0.9s\n",
      "[CV] END max_depth=10, min_samples_leaf=9, min_samples_split=12, n_estimators=560; total time=   0.9s\n",
      "[CV] END max_depth=10, min_samples_leaf=9, min_samples_split=12, n_estimators=560; total time=   0.9s\n",
      "[CV] END max_depth=10, min_samples_leaf=9, min_samples_split=12, n_estimators=560; total time=   0.9s\n",
      "[CV] END max_depth=10, min_samples_leaf=9, min_samples_split=12, n_estimators=560; total time=   0.9s\n",
      "[CV] END max_depth=3, min_samples_leaf=19, min_samples_split=4, n_estimators=210; total time=   0.3s\n",
      "[CV] END max_depth=3, min_samples_leaf=19, min_samples_split=4, n_estimators=210; total time=   0.3s\n",
      "[CV] END max_depth=3, min_samples_leaf=19, min_samples_split=4, n_estimators=210; total time=   0.3s\n",
      "[CV] END max_depth=3, min_samples_leaf=19, min_samples_split=4, n_estimators=210; total time=   0.3s\n",
      "[CV] END max_depth=3, min_samples_leaf=19, min_samples_split=4, n_estimators=210; total time=   0.3s\n",
      "[CV] END max_depth=3, min_samples_leaf=15, min_samples_split=12, n_estimators=560; total time=   0.9s\n",
      "[CV] END max_depth=3, min_samples_leaf=15, min_samples_split=12, n_estimators=560; total time=   0.9s\n",
      "[CV] END max_depth=3, min_samples_leaf=15, min_samples_split=12, n_estimators=560; total time=   0.9s\n",
      "[CV] END max_depth=3, min_samples_leaf=15, min_samples_split=12, n_estimators=560; total time=   0.9s\n",
      "[CV] END max_depth=3, min_samples_leaf=15, min_samples_split=12, n_estimators=560; total time=   0.9s\n",
      "[CV] END max_depth=3, min_samples_leaf=13, min_samples_split=4, n_estimators=960; total time=   1.6s\n",
      "[CV] END max_depth=3, min_samples_leaf=13, min_samples_split=4, n_estimators=960; total time=   1.6s\n",
      "[CV] END max_depth=3, min_samples_leaf=13, min_samples_split=4, n_estimators=960; total time=   1.5s\n",
      "[CV] END max_depth=3, min_samples_leaf=13, min_samples_split=4, n_estimators=960; total time=   1.7s\n",
      "[CV] END max_depth=3, min_samples_leaf=13, min_samples_split=4, n_estimators=960; total time=   1.6s\n"
     ]
    },
    {
     "name": "stdout",
     "output_type": "stream",
     "text": [
      "[CV] END max_depth=None, min_samples_leaf=1, min_samples_split=14, n_estimators=510; total time=   0.8s\n",
      "[CV] END max_depth=None, min_samples_leaf=1, min_samples_split=14, n_estimators=510; total time=   0.9s\n",
      "[CV] END max_depth=None, min_samples_leaf=1, min_samples_split=14, n_estimators=510; total time=   0.8s\n",
      "[CV] END max_depth=None, min_samples_leaf=1, min_samples_split=14, n_estimators=510; total time=   0.8s\n",
      "[CV] END max_depth=None, min_samples_leaf=1, min_samples_split=14, n_estimators=510; total time=   0.9s\n",
      "[CV] END max_depth=None, min_samples_leaf=19, min_samples_split=8, n_estimators=260; total time=   0.4s\n",
      "[CV] END max_depth=None, min_samples_leaf=19, min_samples_split=8, n_estimators=260; total time=   0.4s\n",
      "[CV] END max_depth=None, min_samples_leaf=19, min_samples_split=8, n_estimators=260; total time=   0.4s\n",
      "[CV] END max_depth=None, min_samples_leaf=19, min_samples_split=8, n_estimators=260; total time=   0.4s\n",
      "[CV] END max_depth=None, min_samples_leaf=19, min_samples_split=8, n_estimators=260; total time=   0.3s\n",
      "[CV] END max_depth=None, min_samples_leaf=9, min_samples_split=6, n_estimators=460; total time=   0.7s\n",
      "[CV] END max_depth=None, min_samples_leaf=9, min_samples_split=6, n_estimators=460; total time=   0.7s\n",
      "[CV] END max_depth=None, min_samples_leaf=9, min_samples_split=6, n_estimators=460; total time=   0.7s\n",
      "[CV] END max_depth=None, min_samples_leaf=9, min_samples_split=6, n_estimators=460; total time=   0.7s\n",
      "[CV] END max_depth=None, min_samples_leaf=9, min_samples_split=6, n_estimators=460; total time=   0.7s\n",
      "[CV] END max_depth=3, min_samples_leaf=7, min_samples_split=6, n_estimators=560; total time=   0.9s\n",
      "[CV] END max_depth=3, min_samples_leaf=7, min_samples_split=6, n_estimators=560; total time=   0.8s\n",
      "[CV] END max_depth=3, min_samples_leaf=7, min_samples_split=6, n_estimators=560; total time=   0.9s\n",
      "[CV] END max_depth=3, min_samples_leaf=7, min_samples_split=6, n_estimators=560; total time=   0.9s\n",
      "[CV] END max_depth=3, min_samples_leaf=7, min_samples_split=6, n_estimators=560; total time=   0.9s\n"
     ]
    },
    {
     "data": {
      "text/plain": [
       "RandomizedSearchCV(cv=5, estimator=RandomForestClassifier(), n_iter=20,\n",
       "                   param_distributions={'max_depth': [None, 3, 5, 10],\n",
       "                                        'min_samples_leaf': array([ 1,  3,  5,  7,  9, 11, 13, 15, 17, 19]),\n",
       "                                        'min_samples_split': array([ 2,  4,  6,  8, 10, 12, 14, 16, 18]),\n",
       "                                        'n_estimators': array([ 10,  60, 110, 160, 210, 260, 310, 360, 410, 460, 510, 560, 610,\n",
       "       660, 710, 760, 810, 860, 910, 960])},\n",
       "                   verbose=2)"
      ]
     },
     "execution_count": 154,
     "metadata": {},
     "output_type": "execute_result"
    }
   ],
   "source": [
    "np.random.seed(42)\n",
    "\n",
    "rs_rf = RandomizedSearchCV(RandomForestClassifier(),\n",
    "                           param_distributions=rf_grid,\n",
    "                           cv=5,\n",
    "                           n_iter=20,\n",
    "                           verbose=2)\n",
    "\n",
    "rs_rf.fit(X_train, y_train)"
   ]
  },
  {
   "cell_type": "code",
   "execution_count": 155,
   "id": "8825ad73",
   "metadata": {},
   "outputs": [
    {
     "data": {
      "text/plain": [
       "{'n_estimators': 210,\n",
       " 'min_samples_split': 4,\n",
       " 'min_samples_leaf': 19,\n",
       " 'max_depth': 3}"
      ]
     },
     "execution_count": 155,
     "metadata": {},
     "output_type": "execute_result"
    }
   ],
   "source": [
    "rs_rf.best_params_"
   ]
  },
  {
   "cell_type": "code",
   "execution_count": 156,
   "id": "a2dcb5b1",
   "metadata": {},
   "outputs": [
    {
     "data": {
      "text/plain": [
       "0.8688524590163934"
      ]
     },
     "execution_count": 156,
     "metadata": {},
     "output_type": "execute_result"
    }
   ],
   "source": [
    "rs_rf.score(X_test, y_test)"
   ]
  },
  {
   "cell_type": "code",
   "execution_count": 157,
   "id": "870ff1db",
   "metadata": {},
   "outputs": [],
   "source": [
    "# Logistic Regression shows the best result, thus we will eliminate other two estimators.\n",
    "# And tune the parameters of logistic Regression using GridSearchCV"
   ]
  },
  {
   "cell_type": "code",
   "execution_count": 29,
   "id": "5909cd15",
   "metadata": {},
   "outputs": [
    {
     "name": "stdout",
     "output_type": "stream",
     "text": [
      "Fitting 5 folds for each of 30 candidates, totalling 150 fits\n",
      "[CV] END .........................C=0.0001, solver=liblinear; total time=   0.0s\n",
      "[CV] END .........................C=0.0001, solver=liblinear; total time=   0.0s\n",
      "[CV] END .........................C=0.0001, solver=liblinear; total time=   0.0s\n",
      "[CV] END .........................C=0.0001, solver=liblinear; total time=   0.0s\n",
      "[CV] END .........................C=0.0001, solver=liblinear; total time=   0.0s\n",
      "[CV] END .........C=0.00018873918221350977, solver=liblinear; total time=   0.0s\n",
      "[CV] END .........C=0.00018873918221350977, solver=liblinear; total time=   0.0s\n",
      "[CV] END .........C=0.00018873918221350977, solver=liblinear; total time=   0.0s\n",
      "[CV] END .........C=0.00018873918221350977, solver=liblinear; total time=   0.0s\n",
      "[CV] END .........C=0.00018873918221350977, solver=liblinear; total time=   0.0s\n",
      "[CV] END ..........C=0.0003562247890262444, solver=liblinear; total time=   0.0s\n",
      "[CV] END ..........C=0.0003562247890262444, solver=liblinear; total time=   0.0s\n",
      "[CV] END ..........C=0.0003562247890262444, solver=liblinear; total time=   0.0s\n",
      "[CV] END ..........C=0.0003562247890262444, solver=liblinear; total time=   0.0s\n",
      "[CV] END ..........C=0.0003562247890262444, solver=liblinear; total time=   0.0s\n",
      "[CV] END ..........C=0.0006723357536499335, solver=liblinear; total time=   0.0s\n",
      "[CV] END ..........C=0.0006723357536499335, solver=liblinear; total time=   0.0s\n",
      "[CV] END ..........C=0.0006723357536499335, solver=liblinear; total time=   0.0s\n",
      "[CV] END ..........C=0.0006723357536499335, solver=liblinear; total time=   0.0s\n",
      "[CV] END ..........C=0.0006723357536499335, solver=liblinear; total time=   0.0s\n",
      "[CV] END ..........C=0.0012689610031679222, solver=liblinear; total time=   0.0s\n",
      "[CV] END ..........C=0.0012689610031679222, solver=liblinear; total time=   0.0s\n",
      "[CV] END ..........C=0.0012689610031679222, solver=liblinear; total time=   0.0s\n",
      "[CV] END ..........C=0.0012689610031679222, solver=liblinear; total time=   0.0s\n",
      "[CV] END ..........C=0.0012689610031679222, solver=liblinear; total time=   0.0s\n",
      "[CV] END ...........C=0.002395026619987486, solver=liblinear; total time=   0.0s\n",
      "[CV] END ...........C=0.002395026619987486, solver=liblinear; total time=   0.0s\n",
      "[CV] END ...........C=0.002395026619987486, solver=liblinear; total time=   0.0s\n",
      "[CV] END ...........C=0.002395026619987486, solver=liblinear; total time=   0.0s\n",
      "[CV] END ...........C=0.002395026619987486, solver=liblinear; total time=   0.0s\n",
      "[CV] END ...........C=0.004520353656360241, solver=liblinear; total time=   0.0s\n",
      "[CV] END ...........C=0.004520353656360241, solver=liblinear; total time=   0.0s\n",
      "[CV] END ...........C=0.004520353656360241, solver=liblinear; total time=   0.0s\n",
      "[CV] END ...........C=0.004520353656360241, solver=liblinear; total time=   0.0s\n",
      "[CV] END ...........C=0.004520353656360241, solver=liblinear; total time=   0.0s\n",
      "[CV] END ...........C=0.008531678524172805, solver=liblinear; total time=   0.0s\n",
      "[CV] END ...........C=0.008531678524172805, solver=liblinear; total time=   0.0s\n",
      "[CV] END ...........C=0.008531678524172805, solver=liblinear; total time=   0.0s\n",
      "[CV] END ...........C=0.008531678524172805, solver=liblinear; total time=   0.0s\n",
      "[CV] END ...........C=0.008531678524172805, solver=liblinear; total time=   0.0s\n",
      "[CV] END ............C=0.01610262027560939, solver=liblinear; total time=   0.0s\n",
      "[CV] END ............C=0.01610262027560939, solver=liblinear; total time=   0.0s\n",
      "[CV] END ............C=0.01610262027560939, solver=liblinear; total time=   0.0s\n",
      "[CV] END ............C=0.01610262027560939, solver=liblinear; total time=   0.0s\n",
      "[CV] END ............C=0.01610262027560939, solver=liblinear; total time=   0.0s\n",
      "[CV] END ............C=0.03039195382313198, solver=liblinear; total time=   0.0s\n",
      "[CV] END ............C=0.03039195382313198, solver=liblinear; total time=   0.0s\n",
      "[CV] END ............C=0.03039195382313198, solver=liblinear; total time=   0.0s\n",
      "[CV] END ............C=0.03039195382313198, solver=liblinear; total time=   0.0s\n",
      "[CV] END ............C=0.03039195382313198, solver=liblinear; total time=   0.0s\n",
      "[CV] END ............C=0.05736152510448681, solver=liblinear; total time=   0.0s\n",
      "[CV] END ............C=0.05736152510448681, solver=liblinear; total time=   0.0s\n",
      "[CV] END ............C=0.05736152510448681, solver=liblinear; total time=   0.0s\n",
      "[CV] END ............C=0.05736152510448681, solver=liblinear; total time=   0.0s\n",
      "[CV] END ............C=0.05736152510448681, solver=liblinear; total time=   0.0s\n",
      "[CV] END .............C=0.1082636733874054, solver=liblinear; total time=   0.0s\n",
      "[CV] END .............C=0.1082636733874054, solver=liblinear; total time=   0.0s\n",
      "[CV] END .............C=0.1082636733874054, solver=liblinear; total time=   0.0s\n",
      "[CV] END .............C=0.1082636733874054, solver=liblinear; total time=   0.0s\n",
      "[CV] END .............C=0.1082636733874054, solver=liblinear; total time=   0.0s\n",
      "[CV] END ............C=0.20433597178569418, solver=liblinear; total time=   0.0s\n",
      "[CV] END ............C=0.20433597178569418, solver=liblinear; total time=   0.0s\n",
      "[CV] END ............C=0.20433597178569418, solver=liblinear; total time=   0.0s\n",
      "[CV] END ............C=0.20433597178569418, solver=liblinear; total time=   0.0s\n",
      "[CV] END ............C=0.20433597178569418, solver=liblinear; total time=   0.0s\n",
      "[CV] END ............C=0.38566204211634725, solver=liblinear; total time=   0.0s\n",
      "[CV] END ............C=0.38566204211634725, solver=liblinear; total time=   0.0s\n",
      "[CV] END ............C=0.38566204211634725, solver=liblinear; total time=   0.0s\n",
      "[CV] END ............C=0.38566204211634725, solver=liblinear; total time=   0.0s\n",
      "[CV] END ............C=0.38566204211634725, solver=liblinear; total time=   0.0s\n",
      "[CV] END .............C=0.7278953843983146, solver=liblinear; total time=   0.0s\n",
      "[CV] END .............C=0.7278953843983146, solver=liblinear; total time=   0.0s\n",
      "[CV] END .............C=0.7278953843983146, solver=liblinear; total time=   0.0s\n",
      "[CV] END .............C=0.7278953843983146, solver=liblinear; total time=   0.0s\n",
      "[CV] END .............C=0.7278953843983146, solver=liblinear; total time=   0.0s\n",
      "[CV] END .............C=1.3738237958832638, solver=liblinear; total time=   0.0s\n",
      "[CV] END .............C=1.3738237958832638, solver=liblinear; total time=   0.0s\n",
      "[CV] END .............C=1.3738237958832638, solver=liblinear; total time=   0.0s\n",
      "[CV] END .............C=1.3738237958832638, solver=liblinear; total time=   0.0s\n",
      "[CV] END .............C=1.3738237958832638, solver=liblinear; total time=   0.0s\n",
      "[CV] END ..............C=2.592943797404667, solver=liblinear; total time=   0.0s\n",
      "[CV] END ..............C=2.592943797404667, solver=liblinear; total time=   0.0s\n",
      "[CV] END ..............C=2.592943797404667, solver=liblinear; total time=   0.0s\n",
      "[CV] END ..............C=2.592943797404667, solver=liblinear; total time=   0.0s\n",
      "[CV] END ..............C=2.592943797404667, solver=liblinear; total time=   0.0s\n",
      "[CV] END ..............C=4.893900918477489, solver=liblinear; total time=   0.0s\n",
      "[CV] END ..............C=4.893900918477489, solver=liblinear; total time=   0.0s\n",
      "[CV] END ..............C=4.893900918477489, solver=liblinear; total time=   0.0s\n",
      "[CV] END ..............C=4.893900918477489, solver=liblinear; total time=   0.0s\n",
      "[CV] END ..............C=4.893900918477489, solver=liblinear; total time=   0.0s\n",
      "[CV] END ..............C=9.236708571873866, solver=liblinear; total time=   0.0s\n",
      "[CV] END ..............C=9.236708571873866, solver=liblinear; total time=   0.0s\n",
      "[CV] END ..............C=9.236708571873866, solver=liblinear; total time=   0.0s\n",
      "[CV] END ..............C=9.236708571873866, solver=liblinear; total time=   0.0s\n",
      "[CV] END ..............C=9.236708571873866, solver=liblinear; total time=   0.0s\n",
      "[CV] END .............C=17.433288221999874, solver=liblinear; total time=   0.0s\n",
      "[CV] END .............C=17.433288221999874, solver=liblinear; total time=   0.0s\n",
      "[CV] END .............C=17.433288221999874, solver=liblinear; total time=   0.0s\n",
      "[CV] END .............C=17.433288221999874, solver=liblinear; total time=   0.0s\n",
      "[CV] END .............C=17.433288221999874, solver=liblinear; total time=   0.0s\n",
      "[CV] END ..............C=32.90344562312671, solver=liblinear; total time=   0.0s\n",
      "[CV] END ..............C=32.90344562312671, solver=liblinear; total time=   0.0s\n",
      "[CV] END ..............C=32.90344562312671, solver=liblinear; total time=   0.0s\n"
     ]
    },
    {
     "name": "stdout",
     "output_type": "stream",
     "text": [
      "[CV] END ..............C=32.90344562312671, solver=liblinear; total time=   0.0s\n",
      "[CV] END ..............C=32.90344562312671, solver=liblinear; total time=   0.0s\n",
      "[CV] END ..............C=62.10169418915616, solver=liblinear; total time=   0.0s\n",
      "[CV] END ..............C=62.10169418915616, solver=liblinear; total time=   0.0s\n",
      "[CV] END ..............C=62.10169418915616, solver=liblinear; total time=   0.0s\n",
      "[CV] END ..............C=62.10169418915616, solver=liblinear; total time=   0.0s\n",
      "[CV] END ..............C=62.10169418915616, solver=liblinear; total time=   0.0s\n",
      "[CV] END .............C=117.21022975334793, solver=liblinear; total time=   0.0s\n",
      "[CV] END .............C=117.21022975334793, solver=liblinear; total time=   0.0s\n",
      "[CV] END .............C=117.21022975334793, solver=liblinear; total time=   0.0s\n",
      "[CV] END .............C=117.21022975334793, solver=liblinear; total time=   0.0s\n",
      "[CV] END .............C=117.21022975334793, solver=liblinear; total time=   0.0s\n",
      "[CV] END .............C=221.22162910704503, solver=liblinear; total time=   0.0s\n",
      "[CV] END .............C=221.22162910704503, solver=liblinear; total time=   0.0s\n",
      "[CV] END .............C=221.22162910704503, solver=liblinear; total time=   0.0s\n",
      "[CV] END .............C=221.22162910704503, solver=liblinear; total time=   0.0s\n",
      "[CV] END .............C=221.22162910704503, solver=liblinear; total time=   0.0s\n",
      "[CV] END .............C=417.53189365604004, solver=liblinear; total time=   0.0s\n",
      "[CV] END .............C=417.53189365604004, solver=liblinear; total time=   0.0s\n",
      "[CV] END .............C=417.53189365604004, solver=liblinear; total time=   0.0s\n",
      "[CV] END .............C=417.53189365604004, solver=liblinear; total time=   0.0s\n",
      "[CV] END .............C=417.53189365604004, solver=liblinear; total time=   0.0s\n",
      "[CV] END ..............C=788.0462815669904, solver=liblinear; total time=   0.0s\n",
      "[CV] END ..............C=788.0462815669904, solver=liblinear; total time=   0.0s\n",
      "[CV] END ..............C=788.0462815669904, solver=liblinear; total time=   0.0s\n",
      "[CV] END ..............C=788.0462815669904, solver=liblinear; total time=   0.0s\n",
      "[CV] END ..............C=788.0462815669904, solver=liblinear; total time=   0.0s\n",
      "[CV] END .............C=1487.3521072935118, solver=liblinear; total time=   0.0s\n",
      "[CV] END .............C=1487.3521072935118, solver=liblinear; total time=   0.0s\n",
      "[CV] END .............C=1487.3521072935118, solver=liblinear; total time=   0.0s\n",
      "[CV] END .............C=1487.3521072935118, solver=liblinear; total time=   0.0s\n",
      "[CV] END .............C=1487.3521072935118, solver=liblinear; total time=   0.0s\n",
      "[CV] END .............C=2807.2162039411755, solver=liblinear; total time=   0.0s\n",
      "[CV] END .............C=2807.2162039411755, solver=liblinear; total time=   0.0s\n",
      "[CV] END .............C=2807.2162039411755, solver=liblinear; total time=   0.0s\n",
      "[CV] END .............C=2807.2162039411755, solver=liblinear; total time=   0.0s\n",
      "[CV] END .............C=2807.2162039411755, solver=liblinear; total time=   0.0s\n",
      "[CV] END ..............C=5298.316906283702, solver=liblinear; total time=   0.0s\n",
      "[CV] END ..............C=5298.316906283702, solver=liblinear; total time=   0.0s\n",
      "[CV] END ..............C=5298.316906283702, solver=liblinear; total time=   0.0s\n",
      "[CV] END ..............C=5298.316906283702, solver=liblinear; total time=   0.0s\n",
      "[CV] END ..............C=5298.316906283702, solver=liblinear; total time=   0.0s\n",
      "[CV] END ........................C=10000.0, solver=liblinear; total time=   0.0s\n",
      "[CV] END ........................C=10000.0, solver=liblinear; total time=   0.0s\n",
      "[CV] END ........................C=10000.0, solver=liblinear; total time=   0.0s\n",
      "[CV] END ........................C=10000.0, solver=liblinear; total time=   0.0s\n",
      "[CV] END ........................C=10000.0, solver=liblinear; total time=   0.0s\n"
     ]
    },
    {
     "data": {
      "text/plain": [
       "GridSearchCV(cv=5, estimator=LogisticRegression(),\n",
       "             param_grid={'C': array([1.00000000e-04, 1.88739182e-04, 3.56224789e-04, 6.72335754e-04,\n",
       "       1.26896100e-03, 2.39502662e-03, 4.52035366e-03, 8.53167852e-03,\n",
       "       1.61026203e-02, 3.03919538e-02, 5.73615251e-02, 1.08263673e-01,\n",
       "       2.04335972e-01, 3.85662042e-01, 7.27895384e-01, 1.37382380e+00,\n",
       "       2.59294380e+00, 4.89390092e+00, 9.23670857e+00, 1.74332882e+01,\n",
       "       3.29034456e+01, 6.21016942e+01, 1.17210230e+02, 2.21221629e+02,\n",
       "       4.17531894e+02, 7.88046282e+02, 1.48735211e+03, 2.80721620e+03,\n",
       "       5.29831691e+03, 1.00000000e+04]),\n",
       "                         'solver': ['liblinear']},\n",
       "             verbose=2)"
      ]
     },
     "execution_count": 29,
     "metadata": {},
     "output_type": "execute_result"
    }
   ],
   "source": [
    "log_reg_grid = {\"C\": np.logspace(-4, 4, 30),\n",
    "                \"solver\": ['liblinear']}\n",
    "\n",
    "gs_log_reg = GridSearchCV(LogisticRegression(),\n",
    "                          param_grid=log_reg_grid,\n",
    "                          cv=5,\n",
    "                          verbose=2)\n",
    "\n",
    "gs_log_reg.fit(X_train, y_train)"
   ]
  },
  {
   "cell_type": "code",
   "execution_count": 30,
   "id": "4b0ee155",
   "metadata": {},
   "outputs": [
    {
     "data": {
      "text/plain": [
       "{'C': 0.20433597178569418, 'solver': 'liblinear'}"
      ]
     },
     "execution_count": 30,
     "metadata": {},
     "output_type": "execute_result"
    }
   ],
   "source": [
    "gs_log_reg.best_params_"
   ]
  },
  {
   "cell_type": "code",
   "execution_count": 31,
   "id": "7c281a6e",
   "metadata": {},
   "outputs": [
    {
     "data": {
      "text/plain": [
       "0.8852459016393442"
      ]
     },
     "execution_count": 31,
     "metadata": {},
     "output_type": "execute_result"
    }
   ],
   "source": [
    "gs_log_reg.score(X_test, y_test)"
   ]
  },
  {
   "cell_type": "code",
   "execution_count": 33,
   "id": "9f2d174c",
   "metadata": {},
   "outputs": [
    {
     "data": {
      "text/plain": [
       "array([0, 1, 1, 0, 1, 1, 1, 0, 0, 1, 1, 0, 1, 0, 1, 1, 1, 0, 0, 0, 1, 0,\n",
       "       0, 1, 1, 1, 1, 1, 0, 1, 0, 0, 0, 0, 1, 0, 1, 1, 1, 1, 1, 1, 1, 1,\n",
       "       1, 0, 1, 1, 0, 0, 0, 0, 1, 1, 0, 0, 0, 1, 0, 0, 0], dtype=int64)"
      ]
     },
     "execution_count": 33,
     "metadata": {},
     "output_type": "execute_result"
    }
   ],
   "source": [
    "# Evaluate the model\n",
    "\n",
    "y_preds = gs_log_reg.predict(X_test)\n",
    "y_preds"
   ]
  },
  {
   "cell_type": "code",
   "execution_count": 37,
   "id": "1e198686",
   "metadata": {},
   "outputs": [
    {
     "data": {
      "image/png": "[encoded data removed]",
      "text/plain": [
       "<Figure size 432x288 with 1 Axes>"
      ]
     },
     "metadata": {
      "needs_background": "light"
     },
     "output_type": "display_data"
    }
   ],
   "source": [
    "# Plot ROC curve\n",
    "RocCurveDisplay.from_predictions(y_test, y_preds);"
   ]
  },
  {
   "cell_type": "code",
   "execution_count": 39,
   "id": "e696bb30",
   "metadata": {},
   "outputs": [
    {
     "data": {
      "image/png": "[encoded data removed]",
      "text/plain": [
       "<Figure size 432x288 with 1 Axes>"
      ]
     },
     "metadata": {
      "needs_background": "light"
     },
     "output_type": "display_data"
    }
   ],
   "source": [
    "RocCurveDisplay.from_estimator(gs_log_reg, X_test, y_test);"
   ]
  },
  {
   "cell_type": "code",
   "execution_count": 40,
   "id": "d53bccd8",
   "metadata": {},
   "outputs": [
    {
     "data": {
      "image/png": "[encoded data removed]",
      "text/plain": [
       "<Figure size 432x288 with 1 Axes>"
      ]
     },
     "metadata": {
      "needs_background": "light"
     },
     "output_type": "display_data"
    }
   ],
   "source": [
    "RocCurveDisplay.from_estimator(gs_log_reg, X, y);"
   ]
  },
  {
   "cell_type": "code",
   "execution_count": 53,
   "id": "9fe43dae",
   "metadata": {},
   "outputs": [
    {
     "data": {
      "text/plain": [
       "array([[25,  4],\n",
       "       [ 3, 29]], dtype=int64)"
      ]
     },
     "execution_count": 53,
     "metadata": {},
     "output_type": "execute_result"
    }
   ],
   "source": [
    "# Confusion Matrix\n",
    "cm = confusion_matrix(y_test, y_preds, labels=gs_log_reg.classes_)\n",
    "cm"
   ]
  },
  {
   "cell_type": "code",
   "execution_count": 101,
   "id": "a4a175b6",
   "metadata": {},
   "outputs": [
    {
     "data": {
      "image/png": "[encoded data removed]",
      "text/plain": [
       "<Figure size 432x288 with 2 Axes>"
      ]
     },
     "metadata": {
      "needs_background": "light"
     },
     "output_type": "display_data"
    }
   ],
   "source": [
    "# plt.figure(figsize=(10,10))\n",
    "# font = {'size'   : 12}\n",
    "# plt.rc('font', **font)\n",
    "disp = ConfusionMatrixDisplay(confusion_matrix=cm, display_labels=gs_log_reg.classes_)\n",
    "disp.plot();"
   ]
  },
  {
   "cell_type": "code",
   "execution_count": 66,
   "id": "629e2f1a",
   "metadata": {},
   "outputs": [
    {
     "name": "stdout",
     "output_type": "stream",
     "text": [
      "              precision    recall  f1-score   support\n",
      "\n",
      "           0       0.89      0.86      0.88        29\n",
      "           1       0.88      0.91      0.89        32\n",
      "\n",
      "    accuracy                           0.89        61\n",
      "   macro avg       0.89      0.88      0.88        61\n",
      "weighted avg       0.89      0.89      0.89        61\n",
      "\n"
     ]
    }
   ],
   "source": [
    "#Classificatio Report\n",
    "print(classification_report(y_test, y_preds))"
   ]
  },
  {
   "cell_type": "code",
   "execution_count": 67,
   "id": "f0636b69",
   "metadata": {},
   "outputs": [
    {
     "data": {
      "text/plain": [
       "{'C': 0.20433597178569418, 'solver': 'liblinear'}"
      ]
     },
     "execution_count": 67,
     "metadata": {},
     "output_type": "execute_result"
    }
   ],
   "source": [
    "gs_log_reg.best_params_"
   ]
  },
  {
   "cell_type": "code",
   "execution_count": 68,
   "id": "66575507",
   "metadata": {},
   "outputs": [],
   "source": [
    "clf = LogisticRegression(C=0.20433597178569418,\n",
    "                         solver = 'liblinear')"
   ]
  },
  {
   "cell_type": "code",
   "execution_count": 70,
   "id": "9a87b417",
   "metadata": {},
   "outputs": [],
   "source": [
    "# Cross validating all scores:  Accuracy, Precision, Recall, F1\n",
    "def cross_val_score_dict(metric_list):\n",
    "    cross_val_scores = {}\n",
    "    for i in metric_list:\n",
    "        cv = cross_val_score(clf,\n",
    "                         X,\n",
    "                         y,\n",
    "                         scoring=i)\n",
    "        cross_val_scores[i] = np.mean(cv)\n",
    "    return cross_val_scores"
   ]
  },
  {
   "cell_type": "code",
   "execution_count": 72,
   "id": "e866be97",
   "metadata": {},
   "outputs": [
    {
     "data": {
      "text/plain": [
       "{'accuracy': 0.8446994535519124,\n",
       " 'precision': 0.8207936507936507,\n",
       " 'recall': 0.9212121212121213,\n",
       " 'f1': 0.8673007976269721}"
      ]
     },
     "execution_count": 72,
     "metadata": {},
     "output_type": "execute_result"
    }
   ],
   "source": [
    "metric_list = [\"accuracy\", \"precision\", \"recall\", \"f1\"]\n",
    "scores = cross_val_score_dict(metric_list)\n",
    "scores"
   ]
  },
  {
   "cell_type": "code",
   "execution_count": 84,
   "id": "463ce45a",
   "metadata": {},
   "outputs": [
    {
     "data": {
      "text/html": [
       "<div>\n",
       "<style scoped>\n",
       "    .dataframe tbody tr th:only-of-type {\n",
       "        vertical-align: middle;\n",
       "    }\n",
       "\n",
       "    .dataframe tbody tr th {\n",
       "        vertical-align: top;\n",
       "    }\n",
       "\n",
       "    .dataframe thead th {\n",
       "        text-align: right;\n",
       "    }\n",
       "</style>\n",
       "<table border=\"1\" class=\"dataframe\">\n",
       "  <thead>\n",
       "    <tr style=\"text-align: right;\">\n",
       "      <th></th>\n",
       "      <th>accuracy</th>\n",
       "      <th>precision</th>\n",
       "      <th>recall</th>\n",
       "      <th>f1</th>\n",
       "    </tr>\n",
       "  </thead>\n",
       "  <tbody>\n",
       "    <tr>\n",
       "      <th>%</th>\n",
       "      <td>0.844699</td>\n",
       "      <td>0.820794</td>\n",
       "      <td>0.921212</td>\n",
       "      <td>0.867301</td>\n",
       "    </tr>\n",
       "  </tbody>\n",
       "</table>\n",
       "</div>"
      ],
      "text/plain": [
       "   accuracy  precision    recall        f1\n",
       "%  0.844699   0.820794  0.921212  0.867301"
      ]
     },
     "execution_count": 84,
     "metadata": {},
     "output_type": "execute_result"
    }
   ],
   "source": [
    "cv_metrics = pd.DataFrame(scores,\n",
    "                          index=['%'])\n",
    "cv_metrics"
   ]
  },
  {
   "cell_type": "code",
   "execution_count": 123,
   "id": "b40a87f1",
   "metadata": {},
   "outputs": [
    {
     "name": "stderr",
     "output_type": "stream",
     "text": [
      "W:\\Code\\Machine_Learning\\PROJECTS\\heart-disease-project\\env\\lib\\site-packages\\seaborn\\_decorators.py:36: FutureWarning: Pass the following variables as keyword args: x, y. From version 0.12, the only valid positional argument will be `data`, and passing other arguments without an explicit keyword will result in an error or misinterpretation.\n",
      "  warnings.warn(\n"
     ]
    },
    {
     "data": {
      "image/png": "[encoded data removed]",
      "text/plain": [
       "<Figure size 432x288 with 1 Axes>"
      ]
     },
     "metadata": {},
     "output_type": "display_data"
    }
   ],
   "source": [
    "# plt.figure(figsize=(10,12))\n",
    "# cv_met = sns.load_dataset(\"cv_metrics\")\n",
    "sns.set(style=\"whitegrid\")#, color_codes=True)\n",
    "sns.barplot(list(scores.keys()), list(scores.values()));\n",
    "\n",
    "# plt.show();"
   ]
  },
  {
   "cell_type": "code",
   "execution_count": 127,
   "id": "054de7ce",
   "metadata": {},
   "outputs": [
    {
     "data": {
      "text/plain": [
       "array([3, 1, 0, 2], dtype=int64)"
      ]
     },
     "execution_count": 127,
     "metadata": {},
     "output_type": "execute_result"
    }
   ],
   "source": [
    "array = np.array([4,2,7,1])\n",
    "order = array.argsort()\n",
    "ranks = order.argsort()\n",
    "order"
   ]
  },
  {
   "cell_type": "code",
   "execution_count": null,
   "id": "ca969b00",
   "metadata": {},
   "outputs": [],
   "source": []
  }
 ],
 "metadata": {
  "kernelspec": {
   "display_name": "Python 3 (ipykernel)",
   "language": "python",
   "name": "python3"
  },
  "language_info": {
   "codemirror_mode": {
    "name": "ipython",
    "version": 3
   },
   "file_extension": ".py",
   "mimetype": "text/x-python",
   "name": "python",
   "nbconvert_exporter": "python",
   "pygments_lexer": "ipython3",
   "version": "3.10.4"
  }
 },
 "nbformat": 4,
 "nbformat_minor": 5
}
